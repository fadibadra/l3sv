{
 "cells": [
  {
   "cell_type": "markdown",
   "id": "cec177e6",
   "metadata": {},
   "source": [
    "## Comment utiliser ce notebook\n",
    "Cliquer sur une cellule et presser Entrée pour éditer une cellule.<br/>\n",
    "Appuyer sur Shift+Entrée pour exécuter la cellule.<br/>\n",
    "Pour répondre à un exercice, remplacer le bloc\n",
    "```python\n",
    "# DEBUT : à modifier par l'étudiant\n",
    "pass\n",
    "# FIN : à modifier par l'étudiant\n",
    "```\n",
    "par votre code et exécuter la cellule.\n",
    "<hr/>"
   ]
  },
  {
   "cell_type": "markdown",
   "id": "417c64fa",
   "metadata": {},
   "source": [
    "Sous-sections :\n",
    "[Les conditionnelles](#if)&nbsp;\n",
    "[Les boucles](#boucles)&nbsp;\n",
    "[La fonction range](#range)&nbsp;\n",
    "[Utilisation d'un compteur](#compteur)&nbsp;\n",
    "<br/>\n",
    "Exercices d'application :\n",
    "[Le zoo](#zoo)&nbsp;\n",
    "[La somme des carrés](#carres)&nbsp;\n",
    "[La suite de Fibonacci](#fibonacci)&nbsp;"
   ]
  },
  {
   "cell_type": "markdown",
   "id": "27ffa0d0",
   "metadata": {},
   "source": [
    "<a id=\"if\"></a>\n",
    "### Les conditionnelles"
   ]
  },
  {
   "cell_type": "markdown",
   "id": "fd886d56",
   "metadata": {},
   "source": [
    "#### Les instructions \"Si ... Alors ...\"\n",
    "\n",
    "Les instructions conditionnelles servent à demander à Python de n'exécuter un bloc d'instructions que si une condition est évalée à VRAI.<br/>\n",
    "La syntaxe est la suivante :\n",
    "```python\n",
    "if condition:\n",
    "    bloc\n",
    "```\n",
    "Par exemple, le programme suivant affiche \"Admis\" si la variable note contient une valeur supérieure à 10:"
   ]
  },
  {
   "cell_type": "code",
   "execution_count": 58,
   "id": "d14dd001",
   "metadata": {},
   "outputs": [
    {
     "name": "stdout",
     "output_type": "stream",
     "text": [
      "Admis\n"
     ]
    }
   ],
   "source": [
    "note = 14\n",
    "if note >=10:\n",
    "    print(\"Admis\")"
   ]
  },
  {
   "cell_type": "markdown",
   "id": "4ba56a3b",
   "metadata": {},
   "source": [
    "#### Les instructions \"Si ... Alors ... Sinon ...\"\n",
    "\n",
    "La clause ̀`else` peut être utilisée pour spécifier un bloc d'instruction alternatif à exécuter lorsque le test de la condition a échoué.\n",
    "La syntaxe est la suivante :\n",
    "```python\n",
    "if condition:\n",
    "    bloc1\n",
    "else:\n",
    "    bloc2\n",
    "```\n",
    "Ainsi, si la condition est évaluée à VRAI, le bloc d'instructions <code>bloc1</code> est exécuté, et sinon c'est le bloc d'instructions <code>bloc2</code> qui est exécuté.<br/>\n",
    "\n",
    "Par exemple, le programme suivant affiche \"Admis\" si la valeur de la variable note est supérieure à 10, \n",
    "et \"Recalé\" sinon :\n"
   ]
  },
  {
   "cell_type": "code",
   "execution_count": 6,
   "id": "956ee41c",
   "metadata": {},
   "outputs": [
    {
     "name": "stdout",
     "output_type": "stream",
     "text": [
      "Recalé\n"
     ]
    }
   ],
   "source": [
    "note = 9\n",
    "if note >=10:\n",
    "    print(\"Admis\")\n",
    "else:\n",
    "    print(\"Recalé\")"
   ]
  },
  {
   "cell_type": "markdown",
   "id": "13019cb4",
   "metadata": {},
   "source": [
    "#### Les instructions \"Si ... Alors ... Sinon si ... Alors ... Sinon ...\"\n",
    "\n",
    "Il est possible d'imbriquer des instructions conditionnelles à l'aide du mot-clé `elif`, de la manière suivante :\n",
    "```python\n",
    "if condition1:\n",
    "    bloc1\n",
    "elif condition2:\n",
    "    bloc2\n",
    "else:\n",
    "    bloc3\n",
    "```\n",
    "La deuxième condition (condition2) est testée si (**et seulement si**) la première condition (condition1) a échoué.<br/>\n",
    "\n",
    "Par exemple, le programme suivant affiche \"Admis\" si la valeur de la variable note est supérieure à 10, \n",
    "\"Au repêchage\" si la note est entre 8 et 10, et \"Recalé\" sinon :"
   ]
  },
  {
   "cell_type": "code",
   "execution_count": 5,
   "id": "b0dac10f",
   "metadata": {},
   "outputs": [
    {
     "name": "stdout",
     "output_type": "stream",
     "text": [
      "Au repêchage\n"
     ]
    }
   ],
   "source": [
    "note = 9\n",
    "if note >=10:\n",
    "    print(\"Admis\")\n",
    "elif note >=8:\n",
    "    print(\"Au repêchage\")\n",
    "else:\n",
    "    print(\"Recalé\")"
   ]
  },
  {
   "cell_type": "markdown",
   "id": "5c3cc2b5",
   "metadata": {},
   "source": [
    "<div class=\"alert alert-block alert-success\">\n",
    "    <b>Exercice.</b>\n",
    "Compléter le programme suivant pour qu'il place dans la variable `categorie` la catégorie \n",
    "    d'un enfant :  \"Poussin\" de 6 à 7 ans, \"Pupille\" de 8 à 9 ans, \"Minime\" de 10 à 11 ans, \"Cadet\" après 12 ans.\n",
    "</div>"
   ]
  },
  {
   "cell_type": "code",
   "execution_count": 20,
   "id": "7d4947da",
   "metadata": {},
   "outputs": [
    {
     "name": "stdout",
     "output_type": "stream",
     "text": [
      "Quel est l'âge de votre enfant ? 23\n",
      "Erreur : la categorie est non renseignée.\n"
     ]
    }
   ],
   "source": [
    "age = int(input('Quel est l\\'âge de votre enfant ? '))\n",
    "categorie = ''\n",
    "# DEBUT : à modifier par l'étudiant\n",
    "pass\n",
    "# FIN : à modifier par l'étudiant\n",
    "\n",
    "\n",
    "# --------- tests -------- #\n",
    "try:\n",
    "    assert categorie!='', 'Erreur : la categorie est non renseignée.'\n",
    "    assert age !=6 or categorie == 'Poussin', 'Erreur : un enfant de 6 ans doit être dans la catégorie Poussin.'\n",
    "    assert age !=8 or categorie == 'Pupille', 'Erreur : un enfant de 8 ans doit être dans la catégorie Pupille.'\n",
    "    assert age !=11 or categorie == 'Minime', 'Erreur : un enfant de 11 ans doit être dans la catégorie Minime.'\n",
    "    assert age !=16 or categorie == 'Cadet', 'Erreur : un enfant de 16 ans doit être dans la catégorie Cadet.'\n",
    "    print(f'Votre enfant est dans la categorie {categorie}.')\n",
    "except AssertionError as e:\n",
    "    print(e)   "
   ]
  },
  {
   "cell_type": "markdown",
   "id": "677ac811",
   "metadata": {},
   "source": [
    "<a id=\"boucles\"></a>\n",
    "### Les boucles"
   ]
  },
  {
   "cell_type": "markdown",
   "id": "3474bdee",
   "metadata": {},
   "source": [
    "Les boucles permettent de de répéter un bloc d'instructions.<br/>\n",
    "\n",
    "#### Boucles while\n",
    "Le mot-clé `while` (*tant que*) est utilisé pour répéter un bloc d'instructions tant qu'une condition est vérifiée.<br/>\n",
    "La syntaxe est la suivante :\n",
    "\n",
    "```python\n",
    "while condition:\n",
    "    bloc\n",
    "```\n",
    "Par exemple, le programme suivant liste tous les diviseurs d'un nombre n en testant pour chaque nombre i entre 1 et n si le reste de la division entière de n par i vaut 0 :"
   ]
  },
  {
   "cell_type": "code",
   "execution_count": 23,
   "id": "c52e8fa9",
   "metadata": {},
   "outputs": [
    {
     "name": "stdout",
     "output_type": "stream",
     "text": [
      "1 est un diviseur de 28\n",
      "2 est un diviseur de 28\n",
      "4 est un diviseur de 28\n",
      "7 est un diviseur de 28\n",
      "14 est un diviseur de 28\n",
      "28 est un diviseur de 28\n"
     ]
    }
   ],
   "source": [
    "i = 1\n",
    "n = 28\n",
    "while i <= n:\n",
    "    if n % i == 0:\n",
    "        print(f'{i} est un diviseur de {n}')\n",
    "    i = i + 1"
   ]
  },
  {
   "cell_type": "markdown",
   "id": "3a485631",
   "metadata": {},
   "source": [
    "A chaque itération de la boucle :\n",
    "1. la condition d'arrêt `i<=n` est évaluée\n",
    "2. si elle est évaluée à VRAI, le bloc du while est exécuté :\n",
    "```python\n",
    "if n % i == 0:\n",
    "    print(f'{i} est un diviseur de {n}')\n",
    "i = i + 1\n",
    "```\n",
    "On notera que comme le nombre i est incrémenté à chaque itération, la condition d'arrêt devient fausse\n",
    "après un certain nombre d'itérations.<br/>\n",
    "Si ce n'était pas le cas, on obtiendrait une boucle infinie, et le programme ne s'arrêterait jamais...\n"
   ]
  },
  {
   "cell_type": "markdown",
   "id": "828d37a6",
   "metadata": {},
   "source": [
    "#### Boucles for\n",
    "Les boucles `for` permettent d'exécuter le même bloc d'instruction pour chaque élément d'une séquence.<br/>\n",
    "La syntaxe est la suivante :\n",
    "```python\n",
    "for element in sequence:\n",
    "    bloc\n",
    "```\n",
    "A chaque itération, un nouvel élément de la séquence est placé dans la variable `element`, \n",
    "et le bloc d'instruction est exécuté.<br/>\n",
    "\n",
    "Par exemple, la boucle suivante affiche le nombre de notes qui sont supérieures ou égales à 12 dans une liste de notes :"
   ]
  },
  {
   "cell_type": "code",
   "execution_count": 1,
   "id": "ed86011e",
   "metadata": {},
   "outputs": [
    {
     "name": "stdout",
     "output_type": "stream",
     "text": [
      "Il y a 5 notes supérieures à 12\n"
     ]
    }
   ],
   "source": [
    "notes=[2,4,18,1,13,20,17,8,8,9,19,10,4,5]\n",
    "i = 0\n",
    "for note in notes:\n",
    "    if note >= 12:\n",
    "        i = i + 1\n",
    "print(f'Il y a {i} notes supérieures à 12')"
   ]
  },
  {
   "cell_type": "markdown",
   "id": "3fe43559",
   "metadata": {},
   "source": [
    "<a id=\"range\"></a>\n",
    "### La fonction range"
   ]
  },
  {
   "cell_type": "markdown",
   "id": "27ce2d5a",
   "metadata": {},
   "source": [
    "La fonction `range` retourne un itérateur qui permet de parcourir toutes les valeurs d'une plage.<br/>\n",
    "Par exemple, pour placer dans la variable i successivement tous les nombres entre 0 (__inclus__) et 10 (__exclus__), on fera :"
   ]
  },
  {
   "cell_type": "code",
   "execution_count": 2,
   "id": "b3b48cd5",
   "metadata": {},
   "outputs": [
    {
     "name": "stdout",
     "output_type": "stream",
     "text": [
      "0\n",
      "1\n",
      "2\n",
      "3\n",
      "4\n",
      "5\n",
      "6\n",
      "7\n",
      "8\n",
      "9\n"
     ]
    }
   ],
   "source": [
    "for i in range(10):\n",
    "    print(i)"
   ]
  },
  {
   "cell_type": "markdown",
   "id": "3f23a94e",
   "metadata": {},
   "source": [
    "La syntaxe ressemble à celle utilisée pour accéder aux éléments d'une sous-séquence.<br/>\n",
    "L'exemple suivant affiche la liste de tous les nombres entre 3 inclus et 13 exclus, en en prenant seulement 1 sur 2 :"
   ]
  },
  {
   "cell_type": "code",
   "execution_count": 4,
   "id": "5aa72cf3",
   "metadata": {},
   "outputs": [
    {
     "name": "stdout",
     "output_type": "stream",
     "text": [
      "[3, 5, 7, 9, 11]\n"
     ]
    }
   ],
   "source": [
    "print(list(range(3,13,2)))"
   ]
  },
  {
   "cell_type": "markdown",
   "id": "dd3aefd9",
   "metadata": {},
   "source": [
    "L'exemple suivant affiche la liste de tous les nombres entre 24 inclus et 3 exclus, en en prenant 1 sur 3 :"
   ]
  },
  {
   "cell_type": "code",
   "execution_count": 6,
   "id": "98ca64ac",
   "metadata": {},
   "outputs": [
    {
     "name": "stdout",
     "output_type": "stream",
     "text": [
      "[24, 21, 18, 15, 12, 9, 6]\n"
     ]
    }
   ],
   "source": [
    "print(list(range(24,3,-3)))"
   ]
  },
  {
   "cell_type": "markdown",
   "id": "a7dc381d",
   "metadata": {},
   "source": [
    "<a id=\"compteur\"></a>\n",
    "### Utilisation d'un compteur"
   ]
  },
  {
   "cell_type": "markdown",
   "id": "b61f0489",
   "metadata": {},
   "source": [
    "flag, compteur entier"
   ]
  },
  {
   "cell_type": "markdown",
   "id": "478e4df7",
   "metadata": {},
   "source": [
    "<a id=\"zoo\"></a>\n",
    "### Le zoo"
   ]
  },
  {
   "cell_type": "markdown",
   "id": "c2769e9a",
   "metadata": {},
   "source": [
    "Supposons maintenant qu'on veuille tester une condition sur chaque ligne d'un fichier.<br/>\n",
    "Prenons par exemple le contenu du fichier **zoo.data** ci-dessous."
   ]
  },
  {
   "cell_type": "code",
   "execution_count": 5,
   "id": "4aba9ed7",
   "metadata": {
    "scrolled": true
   },
   "outputs": [
    {
     "name": "stdout",
     "output_type": "stream",
     "text": [
      "aardvark,1,0,0,1,0,0,1,1,1,1,0,0,4,0,0,1,1\n",
      "antelope,1,0,0,1,0,0,0,1,1,1,0,0,4,1,0,1,1\n",
      "bass,0,0,1,0,0,1,1,1,1,0,0,1,0,1,0,0,4\n",
      "bear,1,0,0,1,0,0,1,1,1,1,0,0,4,0,0,1,1\n",
      "boar,1,0,0,1,0,0,1,1,1,1,0,0,4,1,0,1,1\n",
      "buffalo,1,0,0,1,0,0,0,1,1,1,0,0,4,1,0,1,1\n",
      "calf,1,0,0,1,0,0,0,1,1,1,0,0,4,1,1,1,1\n",
      "carp,0,0,1,0,0,1,0,1,1,0,0,1,0,1,1,0,4\n",
      "catfish,0,0,1,0,0,1,1,1,1,0,0,1,0,1,0,0,4\n",
      "cavy,1,0,0,1,0,0,0,1,1,1,0,0,4,0,1,0,1\n",
      "cheetah,1,0,0,1,0,0,1,1,1,1,0,0,4,1,0,1,1\n",
      "chicken,0,1,1,0,1,0,0,0,1,1,0,0,2,1,1,0,2\n",
      "chub,0,0,1,0,0,1,1,1,1,0,0,1,0,1,0,0,4\n",
      "clam,0,0,1,0,0,0,1,0,0,0,0,0,0,0,0,0,7\n",
      "crab,0,0,1,0,0,1,1,0,0,0,0,0,4,0,0,0,7\n",
      "crayfish,0,0,1,0,0,1,1,0,0,0,0,0,6,0,0,0,7\n",
      "crow,0,1,1,0,1,0,1,0,1,1,0,0,2,1,0,0,2\n",
      "deer,1,0,0,1,0,0,0,1,1,1,0,0,4,1,0,1,1\n",
      "dogfish,0,0,1,0,0,1,1,1,1,0,0,1,0,1,0,1,4\n",
      "dolphin,0,0,0,1,0,1,1,1,1,1,0,1,0,1,0,1,1\n",
      "dove,0,1,1,0,1,0,0,0,1,1,0,0,2,1,1,0,2\n",
      "duck,0,1,1,0,1,1,0,0,1,1,0,0,2,1,0,0,2\n",
      "elephant,1,0,0,1,0,0,0,1,1,1,0,0,4,1,0,1,1\n",
      "flamingo,0,1,1,0,1,0,0,0,1,1,0,0,2,1,0,1,2\n",
      "flea,0,0,1,0,0,0,0,0,0,1,0,0,6,0,0,0,6\n",
      "frog,0,0,1,0,0,1,1,1,1,1,0,0,4,0,0,0,5\n",
      "frog,0,0,1,0,0,1,1,1,1,1,1,0,4,0,0,0,5\n",
      "fruitbat,1,0,0,1,1,0,0,1,1,1,0,0,2,1,0,0,1\n",
      "giraffe,1,0,0,1,0,0,0,1,1,1,0,0,4,1,0,1,1\n",
      "girl,1,0,0,1,0,0,1,1,1,1,0,0,2,0,1,1,1\n",
      "gnat,0,0,1,0,1,0,0,0,0,1,0,0,6,0,0,0,6\n",
      "goat,1,0,0,1,0,0,0,1,1,1,0,0,4,1,1,1,1\n",
      "gorilla,1,0,0,1,0,0,0,1,1,1,0,0,2,0,0,1,1\n",
      "gull,0,1,1,0,1,1,1,0,1,1,0,0,2,1,0,0,2\n",
      "haddock,0,0,1,0,0,1,0,1,1,0,0,1,0,1,0,0,4\n",
      "hamster,1,0,0,1,0,0,0,1,1,1,0,0,4,1,1,0,1\n",
      "hare,1,0,0,1,0,0,0,1,1,1,0,0,4,1,0,0,1\n",
      "hawk,0,1,1,0,1,0,1,0,1,1,0,0,2,1,0,0,2\n",
      "herring,0,0,1,0,0,1,1,1,1,0,0,1,0,1,0,0,4\n",
      "honeybee,1,0,1,0,1,0,0,0,0,1,1,0,6,0,1,0,6\n",
      "housefly,1,0,1,0,1,0,0,0,0,1,0,0,6,0,0,0,6\n",
      "kiwi,0,1,1,0,0,0,1,0,1,1,0,0,2,1,0,0,2\n",
      "ladybird,0,0,1,0,1,0,1,0,0,1,0,0,6,0,0,0,6\n",
      "lark,0,1,1,0,1,0,0,0,1,1,0,0,2,1,0,0,2\n",
      "leopard,1,0,0,1,0,0,1,1,1,1,0,0,4,1,0,1,1\n",
      "lion,1,0,0,1,0,0,1,1,1,1,0,0,4,1,0,1,1\n",
      "lobster,0,0,1,0,0,1,1,0,0,0,0,0,6,0,0,0,7\n",
      "lynx,1,0,0,1,0,0,1,1,1,1,0,0,4,1,0,1,1\n",
      "mink,1,0,0,1,0,1,1,1,1,1,0,0,4,1,0,1,1\n",
      "mole,1,0,0,1,0,0,1,1,1,1,0,0,4,1,0,0,1\n",
      "mongoose,1,0,0,1,0,0,1,1,1,1,0,0,4,1,0,1,1\n",
      "moth,1,0,1,0,1,0,0,0,0,1,0,0,6,0,0,0,6\n",
      "newt,0,0,1,0,0,1,1,1,1,1,0,0,4,1,0,0,5\n",
      "octopus,0,0,1,0,0,1,1,0,0,0,0,0,8,0,0,1,7\n",
      "opossum,1,0,0,1,0,0,1,1,1,1,0,0,4,1,0,0,1\n",
      "oryx,1,0,0,1,0,0,0,1,1,1,0,0,4,1,0,1,1\n",
      "ostrich,0,1,1,0,0,0,0,0,1,1,0,0,2,1,0,1,2\n",
      "parakeet,0,1,1,0,1,0,0,0,1,1,0,0,2,1,1,0,2\n",
      "penguin,0,1,1,0,0,1,1,0,1,1,0,0,2,1,0,1,2\n",
      "pheasant,0,1,1,0,1,0,0,0,1,1,0,0,2,1,0,0,2\n",
      "pike,0,0,1,0,0,1,1,1,1,0,0,1,0,1,0,1,4\n",
      "piranha,0,0,1,0,0,1,1,1,1,0,0,1,0,1,0,0,4\n",
      "pitviper,0,0,1,0,0,0,1,1,1,1,1,0,0,1,0,0,3\n",
      "platypus,1,0,1,1,0,1,1,0,1,1,0,0,4,1,0,1,1\n",
      "polecat,1,0,0,1,0,0,1,1,1,1,0,0,4,1,0,1,1\n",
      "pony,1,0,0,1,0,0,0,1,1,1,0,0,4,1,1,1,1\n",
      "porpoise,0,0,0,1,0,1,1,1,1,1,0,1,0,1,0,1,1\n",
      "puma,1,0,0,1,0,0,1,1,1,1,0,0,4,1,0,1,1\n",
      "pussycat,1,0,0,1,0,0,1,1,1,1,0,0,4,1,1,1,1\n",
      "raccoon,1,0,0,1,0,0,1,1,1,1,0,0,4,1,0,1,1\n",
      "reindeer,1,0,0,1,0,0,0,1,1,1,0,0,4,1,1,1,1\n",
      "rhea,0,1,1,0,0,0,1,0,1,1,0,0,2,1,0,1,2\n",
      "scorpion,0,0,0,0,0,0,1,0,0,1,1,0,8,1,0,0,7\n",
      "seahorse,0,0,1,0,0,1,0,1,1,0,0,1,0,1,0,0,4\n",
      "seal,1,0,0,1,0,1,1,1,1,1,0,1,0,0,0,1,1\n",
      "sealion,1,0,0,1,0,1,1,1,1,1,0,1,2,1,0,1,1\n",
      "seasnake,0,0,0,0,0,1,1,1,1,0,1,0,0,1,0,0,3\n",
      "seawasp,0,0,1,0,0,1,1,0,0,0,1,0,0,0,0,0,7\n",
      "skimmer,0,1,1,0,1,1,1,0,1,1,0,0,2,1,0,0,2\n",
      "skua,0,1,1,0,1,1,1,0,1,1,0,0,2,1,0,0,2\n",
      "slowworm,0,0,1,0,0,0,1,1,1,1,0,0,0,1,0,0,3\n",
      "slug,0,0,1,0,0,0,0,0,0,1,0,0,0,0,0,0,7\n",
      "sole,0,0,1,0,0,1,0,1,1,0,0,1,0,1,0,0,4\n",
      "sparrow,0,1,1,0,1,0,0,0,1,1,0,0,2,1,0,0,2\n",
      "squirrel,1,0,0,1,0,0,0,1,1,1,0,0,2,1,0,0,1\n",
      "starfish,0,0,1,0,0,1,1,0,0,0,0,0,5,0,0,0,7\n",
      "stingray,0,0,1,0,0,1,1,1,1,0,1,1,0,1,0,1,4\n",
      "swan,0,1,1,0,1,1,0,0,1,1,0,0,2,1,0,1,2\n",
      "termite,0,0,1,0,0,0,0,0,0,1,0,0,6,0,0,0,6\n",
      "toad,0,0,1,0,0,1,0,1,1,1,0,0,4,0,0,0,5\n",
      "tortoise,0,0,1,0,0,0,0,0,1,1,0,0,4,1,0,1,3\n",
      "tuatara,0,0,1,0,0,0,1,1,1,1,0,0,4,1,0,0,3\n",
      "tuna,0,0,1,0,0,1,1,1,1,0,0,1,0,1,0,1,4\n",
      "vampire,1,0,0,1,1,0,0,1,1,1,0,0,2,1,0,0,1\n",
      "vole,1,0,0,1,0,0,0,1,1,1,0,0,4,1,0,0,1\n",
      "vulture,0,1,1,0,1,0,1,0,1,1,0,0,2,1,0,1,2\n",
      "wallaby,1,0,0,1,0,0,0,1,1,1,0,0,2,1,0,1,1\n",
      "wasp,1,0,1,0,1,0,0,0,0,1,1,0,6,0,0,0,6\n",
      "wolf,1,0,0,1,0,0,1,1,1,1,0,0,4,1,0,1,1\n",
      "worm,0,0,1,0,0,0,0,0,0,1,0,0,0,0,0,0,7\n",
      "wren,0,1,1,0,1,0,0,0,1,1,0,0,2,1,0,0,2\n",
      "\n"
     ]
    }
   ],
   "source": [
    "with open('data/zoo.data') as f:\n",
    "    print(f.read())"
   ]
  },
  {
   "cell_type": "markdown",
   "id": "d1fe7482",
   "metadata": {},
   "source": [
    "Dans ce fichier, chaque ligne décrit un animal.<br/>\n",
    "La première valeur de la ligne donne le nom de l'animal, et la dernière valeur donne sa classe (entre 1 et 7).<br/>\n",
    "On veut savoir quels sont les animaux de la classe 6."
   ]
  },
  {
   "cell_type": "markdown",
   "id": "fb20925d",
   "metadata": {},
   "source": [
    "<div class=\"alert alert-block alert-success\">\n",
    "    <b>Exercice.</b>\n",
    "Compléter le programme suivant pour qu'il affiche tous les animaux de la classe 6.\n",
    "</div>"
   ]
  },
  {
   "cell_type": "code",
   "execution_count": 32,
   "id": "3f305c4c",
   "metadata": {
    "scrolled": true
   },
   "outputs": [],
   "source": [
    "with open('data/zoo.data') as f:\n",
    "    for animal in f:\n",
    "        vals = animal.strip().split(',')\n",
    "        (nom, cls) = (vals[0],int(vals[-1]))\n",
    "        # DEBUT : à modifier par l'étudiant\n",
    "        pass\n",
    "        # FIN : à modifier par l'étudiant"
   ]
  },
  {
   "cell_type": "markdown",
   "id": "6cbf66aa",
   "metadata": {},
   "source": [
    "Dans le fichier **zoo.data**, certains noms d'animaux apparaîssent en double. On veut savoir lesquels."
   ]
  },
  {
   "cell_type": "markdown",
   "id": "fd98a6e3",
   "metadata": {},
   "source": [
    "<div class=\"alert alert-block alert-success\">\n",
    "    <b>Exercice.</b>\n",
    "    Compléter le programme suivant pour qu'il mette dans la liste <b>noms</b> tous les noms d'animaux, et dans la liste <b>doublons</b> ceux qui apparaîssent en double.\n",
    "</div>"
   ]
  },
  {
   "cell_type": "code",
   "execution_count": 31,
   "id": "4c1470ba",
   "metadata": {
    "scrolled": false
   },
   "outputs": [
    {
     "name": "stdout",
     "output_type": "stream",
     "text": [
      "Noms:\n",
      "\n",
      "Doublons:\n",
      "\n",
      "Erreur: mauvais nombre de noms d'animaux.\n"
     ]
    }
   ],
   "source": [
    "noms = []\n",
    "doublons = []\n",
    "with open('data/zoo.data') as f:\n",
    "    for animal in f:\n",
    "        nom = animal.strip().split(',')[0]\n",
    "        # DEBUT : à modifier par l'étudiant\n",
    "        pass\n",
    "    # FIN : à modifier par l'étudiant\n",
    "\n",
    "print('Noms:\\n'+' '.join(noms))\n",
    "print('Doublons:\\n'+' '.join(doublons))\n",
    "# --------- tests -------- #\n",
    "try:\n",
    "    assert len(noms)==100, \"Erreur: mauvais nombre de noms d'animaux.\"\n",
    "    assert len(doublons)==1, \"Erreur: mauvais nombre de doublons\"\n",
    "    print(\"Ok\")\n",
    "except AssertionError as e:\n",
    "    print(e)   "
   ]
  },
  {
   "cell_type": "markdown",
   "id": "056adbf4",
   "metadata": {},
   "source": [
    "<a id=\"carres\"></a>\n",
    "### La somme des carrés"
   ]
  },
  {
   "cell_type": "markdown",
   "id": "9c138c6a",
   "metadata": {},
   "source": [
    "<div class=\"alert alert-block alert-success\">\n",
    "    <b>Exercice.</b>\n",
    "Ecrire un programme qui met dans la variable a la somme des carrés des nombres de 1 à 32.</div>\n"
   ]
  },
  {
   "cell_type": "code",
   "execution_count": 7,
   "id": "1633b059",
   "metadata": {
    "solution2": "hidden",
    "solution2_first": true
   },
   "outputs": [
    {
     "name": "stdout",
     "output_type": "stream",
     "text": [
      "Erreur : la somme des carres des nombres entre 1 et 32 doit valoir 11440\n"
     ]
    }
   ],
   "source": [
    "n = 32\n",
    "a = 0\n",
    "# DEBUT : à modifier par l'étudiant\n",
    "pass\n",
    "# FIN : à modifier par l'étudiant\n",
    "\n",
    "# --------- tests -------- #\n",
    "try:\n",
    "    assert a==11440, 'Erreur : la somme des carres des nombres entre 1 et 32 doit valoir 11440'\n",
    "    print(\"Ok\")\n",
    "except AssertionError as e:\n",
    "    print(e)   "
   ]
  },
  {
   "cell_type": "markdown",
   "id": "1757b8a7",
   "metadata": {},
   "source": [
    "<a id=\"finonacci\"></a>\n",
    "### La suite de Fibonacci"
   ]
  },
  {
   "cell_type": "markdown",
   "id": "7843c93c",
   "metadata": {},
   "source": [
    "<div class=\"alert alert-block alert-success\">\n",
    "    <b>Exercice.</b>\n",
    "    On veut afficher les premiers éléments de la suite de Fibonacci, qui est définie par \n",
    "    $u_0=0$, $u_1=1$, et $\\forall n\\geq 2, u_{n}=u_{n-1}+u_{n-2}$.<br/>\n",
    "    Compléter le programme suivant, qui affiche les 10 premiers éléments de la suite.\n",
    "    <br/>\n",
    "    Remarques : \n",
    "    <ul>\n",
    "        <li>A chaque itération, la valeur de $u_n$ est placée dans la variable un.</li>\n",
    "        <li>Une seule instruction a besoin d'être ajoutée (un = ...).</li>\n",
    "    </ul>\n",
    "</div>"
   ]
  },
  {
   "cell_type": "code",
   "execution_count": 44,
   "id": "fc95b8d1",
   "metadata": {},
   "outputs": [
    {
     "name": "stdout",
     "output_type": "stream",
     "text": [
      "u0 = 0\n",
      "u1 = 1\n",
      "u2 = 1\n",
      "u3 = 1\n",
      "u4 = 1\n",
      "u5 = 1\n",
      "u6 = 1\n",
      "u7 = 1\n",
      "u8 = 1\n",
      "u9 = 1\n",
      "Erreur : u9 doit valoir 34 !\n"
     ]
    }
   ],
   "source": [
    "N = 10\n",
    "(a,b) = (0,1)\n",
    "n = 0\n",
    "while n < N:\n",
    "    if n == 0:\n",
    "        un = a\n",
    "    if n == 1:\n",
    "        un = b\n",
    "    if n >= 2:\n",
    "        # DEBUT : à modifier par l'étudiant\n",
    "        # un = ...\n",
    "        pass\n",
    "        # FIN : à modifier par l'étudiant\n",
    "        (a,b) = (b,a+b)\n",
    "    print(f'u{n} = {un}')\n",
    "    n = n + 1\n",
    "\n",
    "# --------- tests -------- #\n",
    "try:\n",
    "    assert un==34, 'Erreur : u9 doit valoir 34 !'\n",
    "    print(\"Ok\")\n",
    "except AssertionError as e:\n",
    "    print(e)   "
   ]
  }
 ],
 "metadata": {
  "kernelspec": {
   "display_name": "Python [conda env:l3sv] *",
   "language": "python",
   "name": "conda-env-l3sv-py"
  },
  "language_info": {
   "codemirror_mode": {
    "name": "ipython",
    "version": 3
   },
   "file_extension": ".py",
   "mimetype": "text/x-python",
   "name": "python",
   "nbconvert_exporter": "python",
   "pygments_lexer": "ipython3",
   "version": "3.7.11"
  }
 },
 "nbformat": 4,
 "nbformat_minor": 5
}
