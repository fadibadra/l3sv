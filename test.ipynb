{
 "cells": [
  {
   "cell_type": "markdown",
   "id": "6776ab84",
   "metadata": {},
   "source": [
    "<h1>Boucles</h1>"
   ]
  },
  {
   "cell_type": "markdown",
   "id": "ed9e2084",
   "metadata": {},
   "source": [
    "Ecrire une fonction somme_carres qui prend un entier naturel n comme argument et renvoie la somme des carrés des nombres de 1 à n."
   ]
  },
  {
   "cell_type": "code",
   "execution_count": 13,
   "id": "26841c41",
   "metadata": {
    "solution2": "hidden",
    "solution2_first": true
   },
   "outputs": [
    {
     "name": "stdout",
     "output_type": "stream",
     "text": [
      "Erreur : la somme des carres des nombres entre 1 et 17 doit valoir 1785\n"
     ]
    }
   ],
   "source": [
    "def somme_carres(n):\n",
    "    res = 0\n",
    "    # DEBUT : à modifier par l'étudiant\n",
    "    pass\n",
    "    # FIN : à modifier par l'étudiant\n",
    "    return res\n",
    "\n",
    "# --------- tests -------- #\n",
    "try:\n",
    "    assert somme_carres(18)==2109, 'Erreur : la somme des carres des nombres entre 1 et 17 doit valoir 1785'\n",
    "    print(\"Ok\")\n",
    "except AssertionError as e:\n",
    "    print(e)   "
   ]
  },
  {
   "cell_type": "code",
   "execution_count": 3,
   "id": "95aa89ea",
   "metadata": {
    "solution2": "hidden"
   },
   "outputs": [],
   "source": [
    "def somme_carres(n):\n",
    "    res = 0\n",
    "    for i in range(1,n+1):\n",
    "        res = res + i*i\n",
    "    return res"
   ]
  },
  {
   "cell_type": "code",
   "execution_count": null,
   "id": "891c243e",
   "metadata": {},
   "outputs": [],
   "source": []
  }
 ],
 "metadata": {
  "kernelspec": {
   "display_name": "Python 3 (ipykernel)",
   "language": "python",
   "name": "python3"
  },
  "language_info": {
   "codemirror_mode": {
    "name": "ipython",
    "version": 3
   },
   "file_extension": ".py",
   "mimetype": "text/x-python",
   "name": "python",
   "nbconvert_exporter": "python",
   "pygments_lexer": "ipython3",
   "version": "3.7.11"
  },
  "toc": {
   "base_numbering": 1,
   "nav_menu": {},
   "number_sections": true,
   "sideBar": true,
   "skip_h1_title": false,
   "title_cell": "Table of Contents",
   "title_sidebar": "Contents",
   "toc_cell": false,
   "toc_position": {
    "height": "calc(100% - 180px)",
    "left": "10px",
    "top": "150px",
    "width": "241.6px"
   },
   "toc_section_display": true,
   "toc_window_display": true
  }
 },
 "nbformat": 4,
 "nbformat_minor": 5
}
