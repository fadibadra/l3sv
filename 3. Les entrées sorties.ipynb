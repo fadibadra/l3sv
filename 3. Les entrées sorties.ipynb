{
 "cells": [
  {
   "cell_type": "markdown",
   "id": "exceptional-tours",
   "metadata": {},
   "source": [
    "## Comment utiliser ce notebook\n",
    "Cliquer sur une cellule et presser Entrée pour éditer une cellule.<br/>\n",
    "Appuyer sur Shift+Entrée pour exécuter la cellule.<br/>\n",
    "Pour répondre à un exercice, remplacer le bloc\n",
    "```python\n",
    "# DEBUT : à modifier par l'étudiant\n",
    "pass\n",
    "# FIN : à modifier par l'étudiant\n",
    "```\n",
    "par votre code et exécuter la cellule.\n",
    "<hr/>"
   ]
  },
  {
   "cell_type": "markdown",
   "id": "productive-subject",
   "metadata": {},
   "source": [
    "Sous-sections :\n",
    "[Notion de flux](#flux)&nbsp;\n",
    "[Lire depuis un fichier](#fichier)&nbsp;\n",
    "[Lire depuis la console](#console)&nbsp;\n",
    "[Les flux toujours ouverts](#flux_ouverts)&nbsp;\n",
    "[Le format CSV](#csv)&nbsp;\n",
    "[La fonction print](#print)&nbsp;"
   ]
  },
  {
   "cell_type": "markdown",
   "id": "medium-suspect",
   "metadata": {},
   "source": [
    "## Entrées Sorties"
   ]
  },
  {
   "cell_type": "markdown",
   "id": "d2c21a62",
   "metadata": {},
   "source": [
    "Pour manipuler des données avec Python, il est souvent nécessaire de pouvoir lire le contenu d'un fichier dans lequel ces données sont stockées sur disque.\n",
    "\n",
    "Par exemple, le fichier iris.data est un fichier texte qui contient des informations sur 150 exemplaires de fleurs, réparties en trois classes. \n",
    "\n",
    "Voici une représentation en 2 dimensions de ces données :"
   ]
  },
  {
   "cell_type": "code",
   "execution_count": 28,
   "id": "cd71cb40",
   "metadata": {},
   "outputs": [
    {
     "data": {
      "image/png": "[encoded data removed]",
      "text/plain": [
       "<Figure size 432x288 with 1 Axes>"
      ]
     },
     "metadata": {
      "needs_background": "light"
     },
     "output_type": "display_data"
    }
   ],
   "source": [
    "import matplotlib.pyplot as plt\n",
    "import numpy as np\n",
    "import pandas as pd\n",
    "from sklearn.decomposition import PCA\n",
    "\n",
    "colors = ['blue', 'orange', 'green']\n",
    "classes = ['Iris-virginica', 'Iris-setosa', 'Iris-versicolor']\n",
    "features = ['sepal_length', 'sepal_width', 'petal_length', 'petal_width']\n",
    "df = pd.read_csv(\"data/iris.data\", sep=',', header=None, names=features + ['class'])\n",
    "data = df[features].values\n",
    "targets = df['class'].values\n",
    "pca = PCA(n_components=2)\n",
    "x = pca.fit(data).transform(data)[:, 0]\n",
    "y = pca.fit(data).transform(data)[:, 1]\n",
    "for k in range(len(classes)):\n",
    "    plt.scatter(x[targets == classes[k]], y[targets ==\n",
    "                    classes[k]], s=30, marker='o', color=colors[k], label=classes[k])\n",
    "plt.legend()\n",
    "plt.show()"
   ]
  },
  {
   "cell_type": "markdown",
   "id": "1ae6ef2b",
   "metadata": {},
   "source": [
    "Pour pouvoir exploiter ces données, il est nécessaire de pouvoir ouvrir le fichier depuis le programme Python, et d'y récupérer les données qui nous intéressent."
   ]
  },
  {
   "cell_type": "markdown",
   "id": "respiratory-denial",
   "metadata": {},
   "source": [
    "<a id=\"flux\"></a>\n",
    "### Notion de flux d'entrée/sortie"
   ]
  },
  {
   "cell_type": "markdown",
   "id": "academic-pasta",
   "metadata": {},
   "source": [
    "Pour lire le contenu d'un fichier, on ouvre un *flux* vers ce fichier, qui sert de \"canal de communication\" entre le programme Python et le fichier.\n",
    "\n",
    "Ouvrir un flux en Python se fait en appelant la fonction open.\n",
    "\n",
    "Dans l'exemple suivant, on ouvre le flux f en lecture (r) pour lire depuis le fichier iris.data qui est situé dans le sous-répertoire data, avec l'instruction :\n",
    "```Python\n",
    "f = open('data/iris.data','r')\n",
    "```\n",
    "puis on lit le contenu du fichier \n",
    "\n",
    "```Python\n",
    "f.read()\n",
    "```\n",
    "et enfin, on ferme le flux \n",
    "\n",
    "```Python\n",
    "f.close()\n",
    "```\n",
    "L'option 'r' donnée à la fonction open signifie qu'on veut ouvrir le fichier en lecture.\n",
    "D'autres options peuvent être données à la fonction open si l'on veut ouvrir le fichier en écriture (w), en écriture à la suite sans effacer le contenu actuel du fichier (a), en mode binaire (b), etc.\n",
    "\n",
    "<table>\n",
    "    <tr>\n",
    "        <td><b>r</b></td><td>Ouverture en lecture</td>\n",
    "    </tr>\n",
    "    <tr>\n",
    "        <td><b>w</b></td><td>Ouverture en écriture</td>\n",
    "    </tr>\n",
    "    <tr>\n",
    "        <td><b>x</b></td><td>Écriture avec création exclusive (échoue si le fichier existe)</td>\n",
    "    </tr>\n",
    "    <tr>\n",
    "        <td><b>a</b></td><td>Écriture à la suite (sans écraser ce qu’il y a dans le fichier)</td>\n",
    "    </tr>\n",
    "    <tr>\n",
    "        <td><b>t</b></td><td>Mode textuel (défaut)</td>\n",
    "     </tr>\n",
    "     <tr>\n",
    "        <td><b>b</b></td><td>Mode binaire</td>\n",
    "     </tr>\n",
    "    <tr>\n",
    "        <td><b>+</b></td><td>Lecture et écriture</td>\n",
    "    </tr>\n",
    "</table>\n",
    "\n"
   ]
  },
  {
   "cell_type": "markdown",
   "id": "5e2b1702",
   "metadata": {},
   "source": [
    "<a id=\"fichier\"></a>\n",
    "### Lire depuis un fichier"
   ]
  },
  {
   "cell_type": "markdown",
   "id": "527e4503",
   "metadata": {},
   "source": [
    "Pour lire depuis un fichier, on ouvre un flux et on utilise soit la fonction **read** (pour lire tout le contenu du fichier), la fonction **readline** (qui renvoie la ligne suivante), ou la fonction **readlines** (qui renvoie une liste de lignes).\n",
    "\n",
    "L'exemple suivant lit le contenu du fichier iris.data et l'affiche sur la sortie standard :"
   ]
  },
  {
   "cell_type": "code",
   "execution_count": 4,
   "id": "65a2ded4",
   "metadata": {},
   "outputs": [
    {
     "name": "stdout",
     "output_type": "stream",
     "text": [
      "5.1,3.5,1.4,0.2,Iris-setosa\n",
      "4.9,3.0,1.4,0.2,Iris-setosa\n",
      "4.7,3.2,1.3,0.2,Iris-setosa\n",
      "4.6,3.1,1.5,0.2,Iris-setosa\n",
      "5.0,3.6,1.4,0.2,Iris-setosa\n",
      "5.4,3.9,1.7,0.4,Iris-setosa\n",
      "4.6,3.4,1.4,0.3,Iris-setosa\n",
      "5.0,3.4,1.5,0.2,Iris-setosa\n",
      "4.4,2.9,1.4,0.2,Iris-setosa\n",
      "4.9,3.1,1.5,0.1,Iris-setosa\n",
      "5.4,3.7,1.5,0.2,Iris-setosa\n",
      "4.8,3.4,1.6,0.2,Iris-setosa\n",
      "4.8,3.0,1.4,0.1,Iris-setosa\n",
      "4.3,3.0,1.1,0.1,Iris-setosa\n",
      "5.8,4.0,1.2,0.2,Iris-setosa\n",
      "5.7,4.4,1.5,0.4,Iris-setosa\n",
      "5.4,3.9,1.3,0.4,Iris-setosa\n",
      "5.1,3.5,1.4,0.3,Iris-setosa\n",
      "5.7,3.8,1.7,0.3,Iris-setosa\n",
      "5.1,3.8,1.5,0.3,Iris-setosa\n",
      "5.4,3.4,1.7,0.2,Iris-setosa\n",
      "5.1,3.7,1.5,0.4,Iris-setosa\n",
      "4.6,3.6,1.0,0.2,Iris-setosa\n",
      "5.1,3.3,1.7,0.5,Iris-setosa\n",
      "4.8,3.4,1.9,0.2,Iris-setosa\n",
      "5.0,3.0,1.6,0.2,Iris-setosa\n",
      "5.0,3.4,1.6,0.4,Iris-setosa\n",
      "5.2,3.5,1.5,0.2,Iris-setosa\n",
      "5.2,3.4,1.4,0.2,Iris-setosa\n",
      "4.7,3.2,1.6,0.2,Iris-setosa\n",
      "4.8,3.1,1.6,0.2,Iris-setosa\n",
      "5.4,3.4,1.5,0.4,Iris-setosa\n",
      "5.2,4.1,1.5,0.1,Iris-setosa\n",
      "5.5,4.2,1.4,0.2,Iris-setosa\n",
      "4.9,3.1,1.5,0.1,Iris-setosa\n",
      "5.0,3.2,1.2,0.2,Iris-setosa\n",
      "5.5,3.5,1.3,0.2,Iris-setosa\n",
      "4.9,3.1,1.5,0.1,Iris-setosa\n",
      "4.4,3.0,1.3,0.2,Iris-setosa\n",
      "5.1,3.4,1.5,0.2,Iris-setosa\n",
      "5.0,3.5,1.3,0.3,Iris-setosa\n",
      "4.5,2.3,1.3,0.3,Iris-setosa\n",
      "4.4,3.2,1.3,0.2,Iris-setosa\n",
      "5.0,3.5,1.6,0.6,Iris-setosa\n",
      "5.1,3.8,1.9,0.4,Iris-setosa\n",
      "4.8,3.0,1.4,0.3,Iris-setosa\n",
      "5.1,3.8,1.6,0.2,Iris-setosa\n",
      "4.6,3.2,1.4,0.2,Iris-setosa\n",
      "5.3,3.7,1.5,0.2,Iris-setosa\n",
      "5.0,3.3,1.4,0.2,Iris-setosa\n",
      "7.0,3.2,4.7,1.4,Iris-versicolor\n",
      "6.4,3.2,4.5,1.5,Iris-versicolor\n",
      "6.9,3.1,4.9,1.5,Iris-versicolor\n",
      "5.5,2.3,4.0,1.3,Iris-versicolor\n",
      "6.5,2.8,4.6,1.5,Iris-versicolor\n",
      "5.7,2.8,4.5,1.3,Iris-versicolor\n",
      "6.3,3.3,4.7,1.6,Iris-versicolor\n",
      "4.9,2.4,3.3,1.0,Iris-versicolor\n",
      "6.6,2.9,4.6,1.3,Iris-versicolor\n",
      "5.2,2.7,3.9,1.4,Iris-versicolor\n",
      "5.0,2.0,3.5,1.0,Iris-versicolor\n",
      "5.9,3.0,4.2,1.5,Iris-versicolor\n",
      "6.0,2.2,4.0,1.0,Iris-versicolor\n",
      "6.1,2.9,4.7,1.4,Iris-versicolor\n",
      "5.6,2.9,3.6,1.3,Iris-versicolor\n",
      "6.7,3.1,4.4,1.4,Iris-versicolor\n",
      "5.6,3.0,4.5,1.5,Iris-versicolor\n",
      "5.8,2.7,4.1,1.0,Iris-versicolor\n",
      "6.2,2.2,4.5,1.5,Iris-versicolor\n",
      "5.6,2.5,3.9,1.1,Iris-versicolor\n",
      "5.9,3.2,4.8,1.8,Iris-versicolor\n",
      "6.1,2.8,4.0,1.3,Iris-versicolor\n",
      "6.3,2.5,4.9,1.5,Iris-versicolor\n",
      "6.1,2.8,4.7,1.2,Iris-versicolor\n",
      "6.4,2.9,4.3,1.3,Iris-versicolor\n",
      "6.6,3.0,4.4,1.4,Iris-versicolor\n",
      "6.8,2.8,4.8,1.4,Iris-versicolor\n",
      "6.7,3.0,5.0,1.7,Iris-versicolor\n",
      "6.0,2.9,4.5,1.5,Iris-versicolor\n",
      "5.7,2.6,3.5,1.0,Iris-versicolor\n",
      "5.5,2.4,3.8,1.1,Iris-versicolor\n",
      "5.5,2.4,3.7,1.0,Iris-versicolor\n",
      "5.8,2.7,3.9,1.2,Iris-versicolor\n",
      "6.0,2.7,5.1,1.6,Iris-versicolor\n",
      "5.4,3.0,4.5,1.5,Iris-versicolor\n",
      "6.0,3.4,4.5,1.6,Iris-versicolor\n",
      "6.7,3.1,4.7,1.5,Iris-versicolor\n",
      "6.3,2.3,4.4,1.3,Iris-versicolor\n",
      "5.6,3.0,4.1,1.3,Iris-versicolor\n",
      "5.5,2.5,4.0,1.3,Iris-versicolor\n",
      "5.5,2.6,4.4,1.2,Iris-versicolor\n",
      "6.1,3.0,4.6,1.4,Iris-versicolor\n",
      "5.8,2.6,4.0,1.2,Iris-versicolor\n",
      "5.0,2.3,3.3,1.0,Iris-versicolor\n",
      "5.6,2.7,4.2,1.3,Iris-versicolor\n",
      "5.7,3.0,4.2,1.2,Iris-versicolor\n",
      "5.7,2.9,4.2,1.3,Iris-versicolor\n",
      "6.2,2.9,4.3,1.3,Iris-versicolor\n",
      "5.1,2.5,3.0,1.1,Iris-versicolor\n",
      "5.7,2.8,4.1,1.3,Iris-versicolor\n",
      "6.3,3.3,6.0,2.5,Iris-virginica\n",
      "5.8,2.7,5.1,1.9,Iris-virginica\n",
      "7.1,3.0,5.9,2.1,Iris-virginica\n",
      "6.3,2.9,5.6,1.8,Iris-virginica\n",
      "6.5,3.0,5.8,2.2,Iris-virginica\n",
      "7.6,3.0,6.6,2.1,Iris-virginica\n",
      "4.9,2.5,4.5,1.7,Iris-virginica\n",
      "7.3,2.9,6.3,1.8,Iris-virginica\n",
      "6.7,2.5,5.8,1.8,Iris-virginica\n",
      "7.2,3.6,6.1,2.5,Iris-virginica\n",
      "6.5,3.2,5.1,2.0,Iris-virginica\n",
      "6.4,2.7,5.3,1.9,Iris-virginica\n",
      "6.8,3.0,5.5,2.1,Iris-virginica\n",
      "5.7,2.5,5.0,2.0,Iris-virginica\n",
      "5.8,2.8,5.1,2.4,Iris-virginica\n",
      "6.4,3.2,5.3,2.3,Iris-virginica\n",
      "6.5,3.0,5.5,1.8,Iris-virginica\n",
      "7.7,3.8,6.7,2.2,Iris-virginica\n",
      "7.7,2.6,6.9,2.3,Iris-virginica\n",
      "6.0,2.2,5.0,1.5,Iris-virginica\n",
      "6.9,3.2,5.7,2.3,Iris-virginica\n",
      "5.6,2.8,4.9,2.0,Iris-virginica\n",
      "7.7,2.8,6.7,2.0,Iris-virginica\n",
      "6.3,2.7,4.9,1.8,Iris-virginica\n",
      "6.7,3.3,5.7,2.1,Iris-virginica\n",
      "7.2,3.2,6.0,1.8,Iris-virginica\n",
      "6.2,2.8,4.8,1.8,Iris-virginica\n",
      "6.1,3.0,4.9,1.8,Iris-virginica\n",
      "6.4,2.8,5.6,2.1,Iris-virginica\n",
      "7.2,3.0,5.8,1.6,Iris-virginica\n",
      "7.4,2.8,6.1,1.9,Iris-virginica\n",
      "7.9,3.8,6.4,2.0,Iris-virginica\n",
      "6.4,2.8,5.6,2.2,Iris-virginica\n",
      "6.3,2.8,5.1,1.5,Iris-virginica\n",
      "6.1,2.6,5.6,1.4,Iris-virginica\n",
      "7.7,3.0,6.1,2.3,Iris-virginica\n",
      "6.3,3.4,5.6,2.4,Iris-virginica\n",
      "6.4,3.1,5.5,1.8,Iris-virginica\n",
      "6.0,3.0,4.8,1.8,Iris-virginica\n",
      "6.9,3.1,5.4,2.1,Iris-virginica\n",
      "6.7,3.1,5.6,2.4,Iris-virginica\n",
      "6.9,3.1,5.1,2.3,Iris-virginica\n",
      "5.8,2.7,5.1,1.9,Iris-virginica\n",
      "6.8,3.2,5.9,2.3,Iris-virginica\n",
      "6.7,3.3,5.7,2.5,Iris-virginica\n",
      "6.7,3.0,5.2,2.3,Iris-virginica\n",
      "6.3,2.5,5.0,1.9,Iris-virginica\n",
      "6.5,3.0,5.2,2.0,Iris-virginica\n",
      "6.2,3.4,5.4,2.3,Iris-virginica\n",
      "5.9,3.0,5.1,1.8,Iris-virginica\n",
      "\n"
     ]
    }
   ],
   "source": [
    "f = open('data/iris.data','r')\n",
    "print(f.read())\n",
    "f.close()"
   ]
  },
  {
   "cell_type": "markdown",
   "id": "b6342697",
   "metadata": {},
   "source": [
    "Pour éviter d'avoir à fermer explicitement un flux, on peut utiliser la syntaxe suivante, qui ferme automatiquement le flux f lorsque l'exécution du bloc d'instructions est terminé :\n",
    "```Python\n",
    "with open('data/iris.data','r') as f:\n",
    "    print(f.read())\n",
    "```"
   ]
  },
  {
   "cell_type": "markdown",
   "id": "eec8cc1c",
   "metadata": {},
   "source": [
    "L'exemple suivant lit les 5 premières lignes du fichier iris.data et mes affichent sur la sortie standard :"
   ]
  },
  {
   "cell_type": "code",
   "execution_count": 29,
   "id": "d0d43c71",
   "metadata": {},
   "outputs": [
    {
     "name": "stdout",
     "output_type": "stream",
     "text": [
      "5.1,3.5,1.4,0.2,Iris-setosa\n",
      "4.9,3.0,1.4,0.2,Iris-setosa\n",
      "4.7,3.2,1.3,0.2,Iris-setosa\n",
      "4.6,3.1,1.5,0.2,Iris-setosa\n",
      "5.0,3.6,1.4,0.2,Iris-setosa\n"
     ]
    }
   ],
   "source": [
    "with open('data/iris.data','r') as f:\n",
    "    i=0\n",
    "    while i<5:\n",
    "        line = f.readline()\n",
    "        print(line, end='')\n",
    "        i = i+1"
   ]
  },
  {
   "cell_type": "markdown",
   "id": "dd90a05b",
   "metadata": {},
   "source": [
    "Dans cet exemple, on a utilisé la syntaxe \n",
    "```Python\n",
    "print(line, end='')\n",
    "```\n",
    "qui demande à la fonction print de ne pas rajouter de caractère \\n (retour à la ligne) à la fin de l'affichage, car les lignes lues incluent déjà le caractère \\n, comme le montre l'exemple suivant :"
   ]
  },
  {
   "cell_type": "code",
   "execution_count": 1,
   "id": "c403fcc8",
   "metadata": {
    "scrolled": false
   },
   "outputs": [
    {
     "name": "stdout",
     "output_type": "stream",
     "text": [
      "['5', '.', '1', ',', '3', '.', '5', ',', '1', '.', '4', ',', '0', '.', '2', ',', 'I', 'r', 'i', 's', '-', 's', 'e', 't', 'o', 's', 'a', '\\n']\n",
      "['4', '.', '9', ',', '3', '.', '0', ',', '1', '.', '4', ',', '0', '.', '2', ',', 'I', 'r', 'i', 's', '-', 's', 'e', 't', 'o', 's', 'a', '\\n']\n",
      "['4', '.', '7', ',', '3', '.', '2', ',', '1', '.', '3', ',', '0', '.', '2', ',', 'I', 'r', 'i', 's', '-', 's', 'e', 't', 'o', 's', 'a', '\\n']\n",
      "['4', '.', '6', ',', '3', '.', '1', ',', '1', '.', '5', ',', '0', '.', '2', ',', 'I', 'r', 'i', 's', '-', 's', 'e', 't', 'o', 's', 'a', '\\n']\n",
      "['5', '.', '0', ',', '3', '.', '6', ',', '1', '.', '4', ',', '0', '.', '2', ',', 'I', 'r', 'i', 's', '-', 's', 'e', 't', 'o', 's', 'a', '\\n']\n"
     ]
    }
   ],
   "source": [
    "with open('data/iris.data','r') as f:\n",
    "    i=0\n",
    "    while i<5:\n",
    "        line = f.readline()\n",
    "        caracteres = [c for c in line]\n",
    "        print(caracteres)\n",
    "        i = i+1"
   ]
  },
  {
   "cell_type": "markdown",
   "id": "10fbdfb7",
   "metadata": {},
   "source": [
    "L'exemple suivant affiche la $5^e$ ligne du fichier iris.data :"
   ]
  },
  {
   "cell_type": "code",
   "execution_count": 3,
   "id": "01fa6877",
   "metadata": {},
   "outputs": [
    {
     "name": "stdout",
     "output_type": "stream",
     "text": [
      "5.0,3.6,1.4,0.2,Iris-setosa\n",
      "\n"
     ]
    }
   ],
   "source": [
    "f = open('data/iris.data','r')\n",
    "lines= f.readlines()\n",
    "print(lines[4])\n",
    "f.close()"
   ]
  },
  {
   "cell_type": "markdown",
   "id": "0fff0ee2",
   "metadata": {},
   "source": [
    "Pour lire un fichier ligne à ligne, on utilise une boucle for, comme dans l'exemple suivant :"
   ]
  },
  {
   "cell_type": "code",
   "execution_count": 18,
   "id": "067a3559",
   "metadata": {
    "scrolled": true
   },
   "outputs": [
    {
     "name": "stdout",
     "output_type": "stream",
     "text": [
      "5.1,3.5,1.4,0.2,Iris-setosa\n",
      "4.9,3.0,1.4,0.2,Iris-setosa\n",
      "4.7,3.2,1.3,0.2,Iris-setosa\n",
      "4.6,3.1,1.5,0.2,Iris-setosa\n",
      "5.0,3.6,1.4,0.2,Iris-setosa\n",
      "5.4,3.9,1.7,0.4,Iris-setosa\n",
      "4.6,3.4,1.4,0.3,Iris-setosa\n",
      "5.0,3.4,1.5,0.2,Iris-setosa\n",
      "4.4,2.9,1.4,0.2,Iris-setosa\n",
      "4.9,3.1,1.5,0.1,Iris-setosa\n",
      "5.4,3.7,1.5,0.2,Iris-setosa\n",
      "4.8,3.4,1.6,0.2,Iris-setosa\n",
      "4.8,3.0,1.4,0.1,Iris-setosa\n",
      "4.3,3.0,1.1,0.1,Iris-setosa\n",
      "5.8,4.0,1.2,0.2,Iris-setosa\n",
      "5.7,4.4,1.5,0.4,Iris-setosa\n",
      "5.4,3.9,1.3,0.4,Iris-setosa\n",
      "5.1,3.5,1.4,0.3,Iris-setosa\n",
      "5.7,3.8,1.7,0.3,Iris-setosa\n",
      "5.1,3.8,1.5,0.3,Iris-setosa\n",
      "5.4,3.4,1.7,0.2,Iris-setosa\n",
      "5.1,3.7,1.5,0.4,Iris-setosa\n",
      "4.6,3.6,1.0,0.2,Iris-setosa\n",
      "5.1,3.3,1.7,0.5,Iris-setosa\n",
      "4.8,3.4,1.9,0.2,Iris-setosa\n",
      "5.0,3.0,1.6,0.2,Iris-setosa\n",
      "5.0,3.4,1.6,0.4,Iris-setosa\n",
      "5.2,3.5,1.5,0.2,Iris-setosa\n",
      "5.2,3.4,1.4,0.2,Iris-setosa\n",
      "4.7,3.2,1.6,0.2,Iris-setosa\n",
      "4.8,3.1,1.6,0.2,Iris-setosa\n",
      "5.4,3.4,1.5,0.4,Iris-setosa\n",
      "5.2,4.1,1.5,0.1,Iris-setosa\n",
      "5.5,4.2,1.4,0.2,Iris-setosa\n",
      "4.9,3.1,1.5,0.1,Iris-setosa\n",
      "5.0,3.2,1.2,0.2,Iris-setosa\n",
      "5.5,3.5,1.3,0.2,Iris-setosa\n",
      "4.9,3.1,1.5,0.1,Iris-setosa\n",
      "4.4,3.0,1.3,0.2,Iris-setosa\n",
      "5.1,3.4,1.5,0.2,Iris-setosa\n",
      "5.0,3.5,1.3,0.3,Iris-setosa\n",
      "4.5,2.3,1.3,0.3,Iris-setosa\n",
      "4.4,3.2,1.3,0.2,Iris-setosa\n",
      "5.0,3.5,1.6,0.6,Iris-setosa\n",
      "5.1,3.8,1.9,0.4,Iris-setosa\n",
      "4.8,3.0,1.4,0.3,Iris-setosa\n",
      "5.1,3.8,1.6,0.2,Iris-setosa\n",
      "4.6,3.2,1.4,0.2,Iris-setosa\n",
      "5.3,3.7,1.5,0.2,Iris-setosa\n",
      "5.0,3.3,1.4,0.2,Iris-setosa\n"
     ]
    }
   ],
   "source": [
    "with open('data/iris.data','r') as f:\n",
    "    for line in f:\n",
    "        if 'Iris-setosa' in line:\n",
    "            print(line.strip())"
   ]
  },
  {
   "cell_type": "markdown",
   "id": "92a47a6c",
   "metadata": {},
   "source": [
    "<div class=\"alert alert-block alert-success\">\n",
    "    <b>Exercice.</b>\n",
    "    Ouvrir le fichier ri13 situé dans le sous-répertoire data et afficher les 18 premiers caractères de la séquence qu'il contient.\n",
    "</div>"
   ]
  },
  {
   "cell_type": "code",
   "execution_count": null,
   "id": "ffa72061",
   "metadata": {},
   "outputs": [],
   "source": [
    "# DEBUT : à modifier par l'étudiant\n",
    "pass\n",
    "# FIN : à modifier par l'étudiant"
   ]
  },
  {
   "cell_type": "markdown",
   "id": "91de8521",
   "metadata": {},
   "source": [
    "<div class=\"alert alert-block alert-success\">\n",
    "    <b>Exercice.</b>\n",
    "    Ecrire un programme qui ouvre le fichier iris.data et place dans la variable n le nombre de caractères contenus dans le fichier.\n",
    "</div>"
   ]
  },
  {
   "cell_type": "code",
   "execution_count": 14,
   "id": "47d8fc75",
   "metadata": {},
   "outputs": [
    {
     "name": "stdout",
     "output_type": "stream",
     "text": [
      "Erreur : valeur de n incorrecte.\n"
     ]
    }
   ],
   "source": [
    "# DEBUT : à modifier par l'étudiant\n",
    "# n = ...\n",
    "pass\n",
    "# FIN : à modifier par l'étudiant\n",
    "\n",
    "# --------- tests -------- #\n",
    "try:\n",
    "    assert n==4550, 'Erreur : valeur de n incorrecte.'\n",
    "    print(f'Le fichier iris.data contient {n} caractères')\n",
    "except AssertionError as e:\n",
    "    print(e)   "
   ]
  },
  {
   "cell_type": "markdown",
   "id": "e8b28049",
   "metadata": {},
   "source": [
    "<div class=\"alert alert-block alert-success\">\n",
    "    <b>Exercice.</b>\n",
    "    Ecrire un programme qui ouvre le fichier iris.data et place dans la variable n le nombre de lignes du fichier.\n",
    "</div>"
   ]
  },
  {
   "cell_type": "code",
   "execution_count": 15,
   "id": "7b4b2605",
   "metadata": {},
   "outputs": [
    {
     "name": "stdout",
     "output_type": "stream",
     "text": [
      "Erreur : valeur de n incorrecte.\n"
     ]
    }
   ],
   "source": [
    "# DEBUT : à modifier par l'étudiant\n",
    "# n = ...\n",
    "pass\n",
    "# FIN : à modifier par l'étudiant\n",
    "\n",
    "# --------- tests -------- #\n",
    "try:\n",
    "    assert n==150, 'Erreur : valeur de n incorrecte.'\n",
    "    print(f'Le fichier iris.data contient {n} lignes')\n",
    "except AssertionError as e:\n",
    "    print(e)   "
   ]
  },
  {
   "cell_type": "markdown",
   "id": "17c683f9",
   "metadata": {},
   "source": [
    "<div class=\"alert alert-block alert-success\">\n",
    "    <b>Exercice.</b>\n",
    "    Ecrire un programme qui ouvre le fichier iris.data et compte dans combien de lignes apparaît la chaîne de caractères \"Iris-versicolor\".\n",
    "</div>"
   ]
  },
  {
   "cell_type": "code",
   "execution_count": 22,
   "id": "4adde008",
   "metadata": {},
   "outputs": [
    {
     "name": "stdout",
     "output_type": "stream",
     "text": [
      "Erreur : valeur de nb_versicolor incorrecte.\n"
     ]
    }
   ],
   "source": [
    "nb_versicolor=0\n",
    "# DEBUT : à modifier par l'étudiant\n",
    "pass\n",
    "# FIN : à modifier par l'étudiant\n",
    "\n",
    "# --------- tests -------- #\n",
    "try:\n",
    "    assert nb_versicolor==50, 'Erreur : valeur de nb_versicolor incorrecte.'\n",
    "    print(f'La chaîne de caractères Iris-versicolor apparaît {nb_versicolor} fois dans le fichier iris.data. ')\n",
    "except AssertionError as e:\n",
    "    print(e)               \n"
   ]
  },
  {
   "cell_type": "markdown",
   "id": "23b4c3b4",
   "metadata": {},
   "source": [
    "<div class=\"alert alert-block alert-success\">\n",
    "    <b>Exercice.</b>\n",
    "    Ouvrir le fichier ri13 situé dans le sous-répertoire data et compter le nombre de A qu'il contient. Placer le résultat dans la variable nb_A.\n",
    "</div>"
   ]
  },
  {
   "cell_type": "code",
   "execution_count": null,
   "id": "96e5e337",
   "metadata": {},
   "outputs": [],
   "source": [
    "nb_A = 0\n",
    "# DEBUT : à modifier par l'étudiant\n",
    "pass\n",
    "# FIN : à modifier par l'étudiant\n",
    "\n",
    "\n",
    "# --------- tests -------- #\n",
    "try:\n",
    "    assert nb_A==745, 'Erreur : nombre de A incorrect.'\n",
    "    print(f'Le fichier data/ri13 contient {nb_A} fois le caractère A.')\n",
    "    print(\"Ok\")\n",
    "except AssertionError as e:\n",
    "    print(e)   "
   ]
  },
  {
   "cell_type": "markdown",
   "id": "50b85639",
   "metadata": {},
   "source": [
    "<a id=\"console\"></a>\n",
    "### Lire depuis la console"
   ]
  },
  {
   "cell_type": "markdown",
   "id": "1f926fcc",
   "metadata": {},
   "source": [
    "Pour lire depuis l'entrée standard, on utilise la fonction input, comme dans l'exemple suivant :"
   ]
  },
  {
   "cell_type": "code",
   "execution_count": null,
   "id": "marked-cover",
   "metadata": {},
   "outputs": [],
   "source": [
    "age = int(input('Quel est votre age ? '))\n",
    "print(f'Vous avez {age} ans.')"
   ]
  },
  {
   "cell_type": "markdown",
   "id": "970865a3",
   "metadata": {},
   "source": [
    "<div class=\"alert alert-block alert-success\">\n",
    "    <b>Exercice.</b>\n",
    "    Ecrire un programme qui demande à l'utilisateur de saisir un nombre réel entre 1 et 1000. \n",
    "    Ce nombre sera stocké dans la variable r et utilisé pour afficher un cercle ayant ce rayon.\n",
    "</div>"
   ]
  },
  {
   "cell_type": "code",
   "execution_count": null,
   "id": "creative-battlefield",
   "metadata": {},
   "outputs": [],
   "source": [
    "import matplotlib.pyplot as plt\n",
    "from matplotlib.patches import Circle\n",
    "\n",
    "# DEBUT : à modifier par l'étudiant\n",
    "# r = ...\n",
    "pass\n",
    "# FIN : à modifier par l'étudiant\n",
    "\n",
    "# --------- tests -------- #\n",
    "try:\n",
    "    assert r is not None, 'Erreur : la valeur de la variable r doit être non nulle.'\n",
    "    assert r>=0, 'Erreur : le rayon doit être >=1.'\n",
    "    assert r<=2000, 'Erreur : le rayon doit être <=2000.'\n",
    "    assert type(r) is float, 'Erreur : le rayon doit être un nombre réel.'\n",
    "    print(\"Ok\")\n",
    "    w=2000\n",
    "    fig, ax = plt.subplots(1) \n",
    "    ax.set_xlim((0, w))\n",
    "    ax.set_ylim((0, w))\n",
    "    plt.gca().set_aspect('equal', adjustable='box')\n",
    "    circle = Circle((w/2, w/2), r, color='b', fill=False,clip_on=False)\n",
    "    ax.add_patch(circle)\n",
    "    ax.annotate(r'$r$', (w/2+r/2,w/2+1),fontsize=14,color='b')\n",
    "    plt.plot((w/2,w/2+r),(w/2,w/2))\n",
    "    plt.show()\n",
    "except AssertionError as e:\n",
    "    print(e)   "
   ]
  },
  {
   "cell_type": "markdown",
   "id": "4aed589d",
   "metadata": {},
   "source": [
    "<a id=\"flux_ouverts\"></a>\n",
    "### Les flux toujours ouverts"
   ]
  },
  {
   "cell_type": "markdown",
   "id": "f6883cf7",
   "metadata": {},
   "source": [
    "Trois flux sont toujours ouverts, et peuvent être utilisés directement :\n",
    "- la **sortie standard** sys.stdout, qui affiche sur la console.\n",
    "\n",
    "    Pour écrire sur la sortie standard, on peut utiliser la fonction write, comme ici :\n",
    "   ```python\n",
    "    import sys\n",
    "    sys.stdout.write('quelque chose')\n",
    "    ``` \n",
    "    ou utiliser plus simplement la fonction print, qui écrit par défaut sur la sortie standard :\n",
    "    ```python\n",
    "    print('quelque chose')\n",
    "    ``` \n",
    "- la **sortie erreurs** sys.stderr, qui affiche habituellement sur la console, mais peut au besoin être redirigé vers un fichier.\n",
    "\n",
    "    Pour écrire sur la sortie erreurs, on peut utiliser la fonction write, comme ici :\n",
    "   ```python\n",
    "    import sys\n",
    "    sys.stderr.write('une erreur')\n",
    "    ``` \n",
    "    ou utiliser la fonction print, comme ceci :\n",
    "    ```python\n",
    "    import sys\n",
    "    print('une erreur',file=sys.stderr)\n",
    "    ``` \n",
    "\n",
    "- l'**entrée standard** sys.stdin, qui est utilisée pour lire depuis la console.\n"
   ]
  },
  {
   "cell_type": "markdown",
   "id": "910c181f",
   "metadata": {},
   "source": [
    "<div class=\"alert alert-block alert-success\">\n",
    "    <b>Exercice.</b>\n",
    "    Ecrire un programme qui parcourt la liste notes et affiche les nombres entre 0 et 20 sur la sortie standard et les autres sur la sortie erreurs.\n",
    "</div>"
   ]
  },
  {
   "cell_type": "code",
   "execution_count": null,
   "id": "aed4891e",
   "metadata": {},
   "outputs": [],
   "source": [
    "import sys\n",
    "notes = [12,4,-1,29,-2,3,7,18,21]\n",
    "# DEBUT : à modifier par l'étudiant\n",
    "pass\n",
    "# FIN : à modifier par l'étudiant"
   ]
  },
  {
   "cell_type": "markdown",
   "id": "greek-clinton",
   "metadata": {},
   "source": [
    "<a id=\"csv\"></a>\n",
    "### Le format CSV"
   ]
  },
  {
   "cell_type": "markdown",
   "id": "large-rocket",
   "metadata": {},
   "source": [
    "Le fichier iris.data contient une table stockée dans un fichier texte au format CSV.\n",
    "\n",
    "Le format CSV (pour *Comma-Separated Values*) est un format de fichier qui permet de stocker des données tabulaires dans des fichiers textes. Chaque ligne de la table est stockée sous forme d'une nouvelle ligne de texte, et sur une même ligne les valeurs de chacune des colonnes sont séparées par un séparateur.\n",
    "\n",
    "Dans le fichier iris.data, le séparateur est la virgule (,), mais d'autres séparateurs peuvent être utilisés, comme le point virgule, l'espace, la tabulation, etc. \n",
    "Donc pour lire correctement les données d'un fichier CSV, il faut d'abord bien regarder quel séparateur a été utilisé pour séparer les valeurs !\n",
    "\n",
    "Le programme suivant utilise le module csv natif de Python pour lire les données du fichier iris.data, et affiche la table avec des valeurs centrées dans des colonnes de 20 caractères."
   ]
  },
  {
   "cell_type": "code",
   "execution_count": 23,
   "id": "hydraulic-vector",
   "metadata": {},
   "outputs": [
    {
     "name": "stdout",
     "output_type": "stream",
     "text": [
      " sepal_length    sepal_width   petal_length    petal_width         class        \n",
      "      5.1             3.5            1.4             0.2        Iris-setosa  \n",
      "      4.9             3.0            1.4             0.2        Iris-setosa  \n",
      "      4.7             3.2            1.3             0.2        Iris-setosa  \n",
      "      4.6             3.1            1.5             0.2        Iris-setosa  \n",
      "      5.0             3.6            1.4             0.2        Iris-setosa  \n",
      "      5.4             3.9            1.7             0.4        Iris-setosa  \n",
      "      4.6             3.4            1.4             0.3        Iris-setosa  \n",
      "      5.0             3.4            1.5             0.2        Iris-setosa  \n",
      "      4.4             2.9            1.4             0.2        Iris-setosa  \n",
      "      4.9             3.1            1.5             0.1        Iris-setosa  \n",
      "      5.4             3.7            1.5             0.2        Iris-setosa  \n",
      "      4.8             3.4            1.6             0.2        Iris-setosa  \n",
      "      4.8             3.0            1.4             0.1        Iris-setosa  \n",
      "      4.3             3.0            1.1             0.1        Iris-setosa  \n",
      "      5.8             4.0            1.2             0.2        Iris-setosa  \n",
      "      5.7             4.4            1.5             0.4        Iris-setosa  \n",
      "      5.4             3.9            1.3             0.4        Iris-setosa  \n",
      "      5.1             3.5            1.4             0.3        Iris-setosa  \n",
      "      5.7             3.8            1.7             0.3        Iris-setosa  \n",
      "      5.1             3.8            1.5             0.3        Iris-setosa  \n",
      "      5.4             3.4            1.7             0.2        Iris-setosa  \n",
      "      5.1             3.7            1.5             0.4        Iris-setosa  \n",
      "      4.6             3.6            1.0             0.2        Iris-setosa  \n",
      "      5.1             3.3            1.7             0.5        Iris-setosa  \n",
      "      4.8             3.4            1.9             0.2        Iris-setosa  \n",
      "      5.0             3.0            1.6             0.2        Iris-setosa  \n",
      "      5.0             3.4            1.6             0.4        Iris-setosa  \n",
      "      5.2             3.5            1.5             0.2        Iris-setosa  \n",
      "      5.2             3.4            1.4             0.2        Iris-setosa  \n",
      "      4.7             3.2            1.6             0.2        Iris-setosa  \n",
      "      4.8             3.1            1.6             0.2        Iris-setosa  \n",
      "      5.4             3.4            1.5             0.4        Iris-setosa  \n",
      "      5.2             4.1            1.5             0.1        Iris-setosa  \n",
      "      5.5             4.2            1.4             0.2        Iris-setosa  \n",
      "      4.9             3.1            1.5             0.1        Iris-setosa  \n",
      "      5.0             3.2            1.2             0.2        Iris-setosa  \n",
      "      5.5             3.5            1.3             0.2        Iris-setosa  \n",
      "      4.9             3.1            1.5             0.1        Iris-setosa  \n",
      "      4.4             3.0            1.3             0.2        Iris-setosa  \n",
      "      5.1             3.4            1.5             0.2        Iris-setosa  \n",
      "      5.0             3.5            1.3             0.3        Iris-setosa  \n",
      "      4.5             2.3            1.3             0.3        Iris-setosa  \n",
      "      4.4             3.2            1.3             0.2        Iris-setosa  \n",
      "      5.0             3.5            1.6             0.6        Iris-setosa  \n",
      "      5.1             3.8            1.9             0.4        Iris-setosa  \n",
      "      4.8             3.0            1.4             0.3        Iris-setosa  \n",
      "      5.1             3.8            1.6             0.2        Iris-setosa  \n",
      "      4.6             3.2            1.4             0.2        Iris-setosa  \n",
      "      5.3             3.7            1.5             0.2        Iris-setosa  \n",
      "      5.0             3.3            1.4             0.2        Iris-setosa  \n",
      "      7.0             3.2            4.7             1.4      Iris-versicolor\n",
      "      6.4             3.2            4.5             1.5      Iris-versicolor\n",
      "      6.9             3.1            4.9             1.5      Iris-versicolor\n",
      "      5.5             2.3            4.0             1.3      Iris-versicolor\n",
      "      6.5             2.8            4.6             1.5      Iris-versicolor\n",
      "      5.7             2.8            4.5             1.3      Iris-versicolor\n",
      "      6.3             3.3            4.7             1.6      Iris-versicolor\n",
      "      4.9             2.4            3.3             1.0      Iris-versicolor\n",
      "      6.6             2.9            4.6             1.3      Iris-versicolor\n",
      "      5.2             2.7            3.9             1.4      Iris-versicolor\n",
      "      5.0             2.0            3.5             1.0      Iris-versicolor\n",
      "      5.9             3.0            4.2             1.5      Iris-versicolor\n",
      "      6.0             2.2            4.0             1.0      Iris-versicolor\n",
      "      6.1             2.9            4.7             1.4      Iris-versicolor\n",
      "      5.6             2.9            3.6             1.3      Iris-versicolor\n",
      "      6.7             3.1            4.4             1.4      Iris-versicolor\n",
      "      5.6             3.0            4.5             1.5      Iris-versicolor\n",
      "      5.8             2.7            4.1             1.0      Iris-versicolor\n",
      "      6.2             2.2            4.5             1.5      Iris-versicolor\n",
      "      5.6             2.5            3.9             1.1      Iris-versicolor\n",
      "      5.9             3.2            4.8             1.8      Iris-versicolor\n",
      "      6.1             2.8            4.0             1.3      Iris-versicolor\n",
      "      6.3             2.5            4.9             1.5      Iris-versicolor\n",
      "      6.1             2.8            4.7             1.2      Iris-versicolor\n",
      "      6.4             2.9            4.3             1.3      Iris-versicolor\n",
      "      6.6             3.0            4.4             1.4      Iris-versicolor\n",
      "      6.8             2.8            4.8             1.4      Iris-versicolor\n",
      "      6.7             3.0            5.0             1.7      Iris-versicolor\n",
      "      6.0             2.9            4.5             1.5      Iris-versicolor\n",
      "      5.7             2.6            3.5             1.0      Iris-versicolor\n",
      "      5.5             2.4            3.8             1.1      Iris-versicolor\n",
      "      5.5             2.4            3.7             1.0      Iris-versicolor\n",
      "      5.8             2.7            3.9             1.2      Iris-versicolor\n",
      "      6.0             2.7            5.1             1.6      Iris-versicolor\n",
      "      5.4             3.0            4.5             1.5      Iris-versicolor\n",
      "      6.0             3.4            4.5             1.6      Iris-versicolor\n",
      "      6.7             3.1            4.7             1.5      Iris-versicolor\n",
      "      6.3             2.3            4.4             1.3      Iris-versicolor\n",
      "      5.6             3.0            4.1             1.3      Iris-versicolor\n",
      "      5.5             2.5            4.0             1.3      Iris-versicolor\n",
      "      5.5             2.6            4.4             1.2      Iris-versicolor\n",
      "      6.1             3.0            4.6             1.4      Iris-versicolor\n",
      "      5.8             2.6            4.0             1.2      Iris-versicolor\n",
      "      5.0             2.3            3.3             1.0      Iris-versicolor\n",
      "      5.6             2.7            4.2             1.3      Iris-versicolor\n",
      "      5.7             3.0            4.2             1.2      Iris-versicolor\n",
      "      5.7             2.9            4.2             1.3      Iris-versicolor\n",
      "      6.2             2.9            4.3             1.3      Iris-versicolor\n",
      "      5.1             2.5            3.0             1.1      Iris-versicolor\n",
      "      5.7             2.8            4.1             1.3      Iris-versicolor\n",
      "      6.3             3.3            6.0             2.5      Iris-virginica \n",
      "      5.8             2.7            5.1             1.9      Iris-virginica \n",
      "      7.1             3.0            5.9             2.1      Iris-virginica \n",
      "      6.3             2.9            5.6             1.8      Iris-virginica \n",
      "      6.5             3.0            5.8             2.2      Iris-virginica \n",
      "      7.6             3.0            6.6             2.1      Iris-virginica \n",
      "      4.9             2.5            4.5             1.7      Iris-virginica \n",
      "      7.3             2.9            6.3             1.8      Iris-virginica \n",
      "      6.7             2.5            5.8             1.8      Iris-virginica \n",
      "      7.2             3.6            6.1             2.5      Iris-virginica \n",
      "      6.5             3.2            5.1             2.0      Iris-virginica \n",
      "      6.4             2.7            5.3             1.9      Iris-virginica \n",
      "      6.8             3.0            5.5             2.1      Iris-virginica \n",
      "      5.7             2.5            5.0             2.0      Iris-virginica \n",
      "      5.8             2.8            5.1             2.4      Iris-virginica \n",
      "      6.4             3.2            5.3             2.3      Iris-virginica \n",
      "      6.5             3.0            5.5             1.8      Iris-virginica \n",
      "      7.7             3.8            6.7             2.2      Iris-virginica \n",
      "      7.7             2.6            6.9             2.3      Iris-virginica \n",
      "      6.0             2.2            5.0             1.5      Iris-virginica \n",
      "      6.9             3.2            5.7             2.3      Iris-virginica \n",
      "      5.6             2.8            4.9             2.0      Iris-virginica \n",
      "      7.7             2.8            6.7             2.0      Iris-virginica \n",
      "      6.3             2.7            4.9             1.8      Iris-virginica \n",
      "      6.7             3.3            5.7             2.1      Iris-virginica \n",
      "      7.2             3.2            6.0             1.8      Iris-virginica \n",
      "      6.2             2.8            4.8             1.8      Iris-virginica \n",
      "      6.1             3.0            4.9             1.8      Iris-virginica \n",
      "      6.4             2.8            5.6             2.1      Iris-virginica \n",
      "      7.2             3.0            5.8             1.6      Iris-virginica \n",
      "      7.4             2.8            6.1             1.9      Iris-virginica \n",
      "      7.9             3.8            6.4             2.0      Iris-virginica \n",
      "      6.4             2.8            5.6             2.2      Iris-virginica \n",
      "      6.3             2.8            5.1             1.5      Iris-virginica \n",
      "      6.1             2.6            5.6             1.4      Iris-virginica \n",
      "      7.7             3.0            6.1             2.3      Iris-virginica \n",
      "      6.3             3.4            5.6             2.4      Iris-virginica \n",
      "      6.4             3.1            5.5             1.8      Iris-virginica \n",
      "      6.0             3.0            4.8             1.8      Iris-virginica \n",
      "      6.9             3.1            5.4             2.1      Iris-virginica \n",
      "      6.7             3.1            5.6             2.4      Iris-virginica \n",
      "      6.9             3.1            5.1             2.3      Iris-virginica \n",
      "      5.8             2.7            5.1             1.9      Iris-virginica \n",
      "      6.8             3.2            5.9             2.3      Iris-virginica \n",
      "      6.7             3.3            5.7             2.5      Iris-virginica \n",
      "      6.7             3.0            5.2             2.3      Iris-virginica \n",
      "      6.3             2.5            5.0             1.9      Iris-virginica \n",
      "      6.5             3.0            5.2             2.0      Iris-virginica \n",
      "      6.2             3.4            5.4             2.3      Iris-virginica \n",
      "      5.9             3.0            5.1             1.8      Iris-virginica \n"
     ]
    }
   ],
   "source": [
    "import csv\n",
    "print(f'{\"sepal_length\":^15}{\"sepal_width\":^15}{\"petal_length\":^15}{\"petal_width\":^15}{\"class\":^20}')\n",
    "with open('data/iris.data') as csvfile:\n",
    "    for row in csv.reader(csvfile,delimiter=','):\n",
    "        print(f'{row[0]:^15} {row[1]:^15}{row[2]:^15} {row[3]:^15}{row[4]:^15}')"
   ]
  },
  {
   "cell_type": "markdown",
   "id": "false-exposure",
   "metadata": {},
   "source": [
    "<div class=\"alert alert-block alert-success\">\n",
    "    <b>Exercice.</b>\n",
    "Lire le fichier iris.data depuis votre programme et calculer la valeur moyenne de l'attribut sepal_length. \n",
    "    Placer cette valeur dans la variable res.\n",
    "</div>\n"
   ]
  },
  {
   "cell_type": "code",
   "execution_count": null,
   "id": "mechanical-variance",
   "metadata": {},
   "outputs": [],
   "source": [
    "import csv\n",
    "res=0.\n",
    "# DEBUT : à modifier par l'étudiant\n",
    "pass\n",
    "# FIN : à modifier par l'étudiant\n",
    "print(f'La valeur moyenne de l\\'attribut sepal_length est {res}')\n",
    "\n",
    "# --------- tests -------- #\n",
    "try:\n",
    "    assert res==5.843333333333335, 'Erreur : la valeur moyenne de l\\'attribut doit valoir 5.843333333333335.'\n",
    "    print(\"Ok\")\n",
    "except AssertionError as e:\n",
    "    print(e)   "
   ]
  },
  {
   "cell_type": "markdown",
   "id": "alert-spokesman",
   "metadata": {},
   "source": [
    "<a id=\"print\"></a>\n",
    "### La fonction print"
   ]
  },
  {
   "cell_type": "markdown",
   "id": "immediate-nickname",
   "metadata": {},
   "source": [
    "La fonction \n",
    "```Python\n",
    "print(∗objects, sep=’’, end=’\\n’, file=sys.stdout, flush=False)\n",
    "```\n",
    "permet d’écrire un objet sur un flux de texte. La fonction convertit les objets en chaîne\n",
    "de caractères avec la fonction str, les écrit dans le flux file, séparés par sep et suivis\n",
    "de end.\n",
    "\n",
    "Voici quelques exemples d'utilisation :\n",
    "- écrire un message d'erreur sur la sortie erreurs :\n",
    "```Python\n",
    "import sys\n",
    "print('Erreur!!',file=sys.stderr)\n",
    "```\n",
    "- écrire les nombres de 1 à 18 dans le fichier test, séparés par des virgules :\n",
    "```Python\n",
    "with open('test','w') as test:\n",
    "    for k in range(18):\n",
    "        print(k,file=test,end=',')\n",
    "    print(18,file=test)\n",
    "```\n",
    "- écrire dans le fichier test le contenu du fichier iris.data, mais avec des valeurs séparées par un point virgule :\n",
    "```Python\n",
    "with open('data/iris.data','r') as iris, open('test','w') as test:\n",
    "    for line in iris:\n",
    "        print(*line.strip().split(','),file=test,sep=';')\n",
    "```"
   ]
  },
  {
   "cell_type": "markdown",
   "id": "fc884c58",
   "metadata": {},
   "source": [
    "<div class=\"alert alert-block alert-success\">\n",
    "    <b>Exercice.</b>\n",
    "    Utiliser la fonction print pour afficher tous les nombres entre 1 et 200 séparés par un espace, sans revenir à la ligne.\n",
    "</div>"
   ]
  },
  {
   "cell_type": "code",
   "execution_count": 32,
   "id": "young-observation",
   "metadata": {},
   "outputs": [],
   "source": [
    "# DEBUT : à modifier par l'étudiant\n",
    "pass\n",
    "# FIN : à modifier par l'étudiant"
   ]
  }
 ],
 "metadata": {
  "kernelspec": {
   "display_name": "Python [conda env:l3sv] *",
   "language": "python",
   "name": "conda-env-l3sv-py"
  },
  "language_info": {
   "codemirror_mode": {
    "name": "ipython",
    "version": 3
   },
   "file_extension": ".py",
   "mimetype": "text/x-python",
   "name": "python",
   "nbconvert_exporter": "python",
   "pygments_lexer": "ipython3",
   "version": "3.7.11"
  }
 },
 "nbformat": 4,
 "nbformat_minor": 5
}
