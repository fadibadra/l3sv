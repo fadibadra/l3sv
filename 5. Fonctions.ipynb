{
 "cells": [
  {
   "cell_type": "markdown",
   "id": "ded5f572",
   "metadata": {},
   "source": [
    "## Comment utiliser ce notebook\n",
    "Cliquer sur une cellule et presser Entrée pour éditer une cellule.<br/>\n",
    "Appuyer sur Shift+Entrée pour exécuter la cellule.<br/>\n",
    "Pour répondre à un exercice, remplacer le bloc\n",
    "```python\n",
    "# DEBUT : à modifier par l'étudiant\n",
    "pass\n",
    "# FIN : à modifier par l'étudiant\n",
    "```\n",
    "par votre code et exécuter la cellule.\n",
    "<hr/>"
   ]
  },
  {
   "cell_type": "markdown",
   "id": "381971f1",
   "metadata": {},
   "source": [
    "Sous-sections :\n",
    "[Notion de fonction](#fonction)&nbsp;\n",
    "<br/>\n",
    "Exercices d'application :\n",
    "[Le chiffrement de César](#cesar)&nbsp;"
   ]
  },
  {
   "cell_type": "markdown",
   "id": "845e1836",
   "metadata": {},
   "source": [
    "<a id=\"fonction\"></a>\n",
    "### Notion de fonction"
   ]
  },
  {
   "cell_type": "markdown",
   "id": "60a3ea61",
   "metadata": {},
   "source": [
    "La manière la plus simple de réutiliser du code est de définir des fonctions.\n",
    "<br/>\n",
    "Une fonction peut être vue comme un nom donné à une suite d'instructions \n",
    "que l'on veut pouvoir réutiliser.<br/>\n",
    "Pour déclarer une fonction, la syntaxe est la suivante :\n",
    "```python\n",
    "def nom_de_la_fonction(arguments):\n",
    "    bloc_de_la_fonction\n",
    "```\n",
    "Par exemple, la fonction suivante prend comme arguments un poids et une taille et  calcule l'indice de masse corporelle :\n",
    "```python\n",
    "def imc(poids,taille):\n",
    "    return poids/(taille*taille)\n",
    "```"
   ]
  },
  {
   "cell_type": "markdown",
   "id": "e46d06ef",
   "metadata": {},
   "source": [
    "A chaque fois que l'on veut réexécuter le bloc d'une fonction, on appelle la fonction avec une instruction de la forme\n",
    "```python\n",
    "nom_de_la_fonction(argument1,argument2,...)\n",
    "```\n",
    "Une fonction peut éventuellement renvoyer une valeur à l'appelant, à l'aide du mot clé __return__.\n",
    "\n",
    "Par exemple, dans le programme suivant la fonction `imc` est déclarée, puis appelée deux fois pour calculer des indices de masse corporelle avec des valeurs différents des arguments poids et taille :"
   ]
  },
  {
   "cell_type": "code",
   "execution_count": 42,
   "id": "1b2ed707",
   "metadata": {},
   "outputs": [
    {
     "name": "stdout",
     "output_type": "stream",
     "text": [
      "24.074074074074073 42.33055885850178\n"
     ]
    }
   ],
   "source": [
    "def imc(poids,taille):\n",
    "    return poids/(taille*taille)\n",
    "\n",
    "a = imc(78,1.8)\n",
    "b = imc(89,1.45)\n",
    "print(a,b)"
   ]
  },
  {
   "cell_type": "markdown",
   "id": "c370144e",
   "metadata": {},
   "source": [
    "La température t en degrés Fahrenheit équivaut à la température \n",
    "$(t − 32) \\times \\frac{5}{9}$ en degrés Celsius."
   ]
  },
  {
   "cell_type": "markdown",
   "id": "5d2ac0d1",
   "metadata": {},
   "source": [
    "<div class=\"alert alert-block alert-success\">\n",
    "    <b>Exercice.</b>\n",
    "    Ecrire une fonction farhenheit_en_celsius, qui prend comme argument une valeur de température en degrés Farhenheit, et renvoie la valeur correspondante en degrés Celsius.\n",
    "</div>\n"
   ]
  },
  {
   "cell_type": "code",
   "execution_count": 51,
   "id": "1cac44b4",
   "metadata": {},
   "outputs": [
    {
     "name": "stdout",
     "output_type": "stream",
     "text": [
      "Erreur : 212 degrés Farhenheit correspondent à 100 degrés Celsius.\n"
     ]
    }
   ],
   "source": [
    "def farhenheit_en_celsius(t):\n",
    "    # DEBUT : à modifier par l'étudiant\n",
    "    pass\n",
    "    # FIN : à modifier par l'étudiant\n",
    "\n",
    "# --------- tests -------- #\n",
    "try:\n",
    "    assert farhenheit_en_celsius(212)==100.0, 'Erreur : 212 degrés Farhenheit correspondent à 100 degrés Celsius.'\n",
    "    print('Ok')\n",
    "except AssertionError as e:\n",
    "    print(e)   "
   ]
  },
  {
   "cell_type": "markdown",
   "id": "1614de9a",
   "metadata": {},
   "source": [
    "<a id=\"cesar\"></a>\n",
    "### Le chiffrement de César"
   ]
  },
  {
   "cell_type": "markdown",
   "id": "5c21e4cc",
   "metadata": {},
   "source": [
    "####  La méthode de chiffrement\n",
    "\n",
    "Nous voulons implémenter une méthode de chiffrement naïve, attribuée \n",
    "à Jules César (!), qui consiste à coder chaque lettre par la lettre de rang n + 3 dans l'alphabet.\n",
    "Par exemple, le mot 'ami' serait codé 'dpl' avec ce code.<br/>\n",
    "Pour cela, nous allons décomposer le processus de chiffrement en plusieurs sous-tâches :\n",
    "1. Transformer la phrase en une liste de lettres\n",
    "2. Pour chaque lettre, trouver son rang dans l'alphabet. On obtient une liste de rangs.\n",
    "3. Décaler chaque rang de 3. On obtient une liste de rangs décalés.\n",
    "4. Pour chaque rang décalé, trouver la lettre correspondante. On obtient une liste de nouvelles lettres.\n",
    "5. Transformer la liste de nouvelles lettres en une chaîne de caractères.\n",
    "\n",
    "On obtiendrait la fonction suivante :\n",
    "\n",
    "```python\n",
    "def chiffrement(phrase):\n",
    "    lettres = convertir_en_liste(phrase)\n",
    "    rangs = [trouver_rang(lettre) for lettre in lettres]\n",
    "    rangs_decales = [decaler(rang) for rang in rangs]\n",
    "    nouvelles_lettres = [trouver_lettre(rang) for rang in rangs_decales]\n",
    "    phrase_chiffree = convertir_en_chaine(nouvelles_lettres)\n",
    "    return phrase_chiffree\n",
    "```\n",
    "dans laquelle chacune des étapes se fait en faisant un appel à une fonction:\n",
    "- La fonction `convertir_en_liste` prend comme argument une chaîne de caractères, et la convertit en liste.\n",
    "- La fonction `trouver_rang` prend comme argument un caractère, et renvoie son rang dans l'alphabet.\n",
    "- La fonction `decaler` décale chaque rang de 3, sauf le rang 0 (qui est le rang du caractère espace &#x2423;) qui reste le même.\n",
    "- La fonction `trouver_lettre` prend comme argument un rang et renvoie la lettre de l'alphabet correspondante.\n",
    "- La fonction `convertir_en_chaine` prend comme argument une liste de caractères, et la convertit en chaĩne de caractères.\n"
   ]
  },
  {
   "cell_type": "markdown",
   "id": "509f1073",
   "metadata": {},
   "source": [
    "La fonction `trouver_rang` renvoie le rang l'alphabet de la lettre qu'on lui passe en argument.\n",
    "On suppose ici que toutes les lettres sont des minuscules, et que le rang du caractère espace &#x2423; vaut 0."
   ]
  },
  {
   "cell_type": "code",
   "execution_count": 36,
   "id": "762f597c",
   "metadata": {},
   "outputs": [
    {
     "name": "stdout",
     "output_type": "stream",
     "text": [
      "2\n"
     ]
    }
   ],
   "source": [
    "def trouver_rang(lettre):\n",
    "    if lettre == ' ':\n",
    "        rang = 0\n",
    "    else:\n",
    "        rang = ord(lettre)-ord('a')+1\n",
    "    return rang\n",
    " \n",
    "print(trouver_rang('b'))"
   ]
  },
  {
   "cell_type": "markdown",
   "id": "053761bf",
   "metadata": {},
   "source": [
    "La fonction `trouver_lettre` renvoie la lettre de l'alphabet correspondant au rang qu'on lui passe en argument :"
   ]
  },
  {
   "cell_type": "code",
   "execution_count": 35,
   "id": "cfb22e3a",
   "metadata": {},
   "outputs": [
    {
     "name": "stdout",
     "output_type": "stream",
     "text": [
      "z\n"
     ]
    }
   ],
   "source": [
    "def trouver_lettre(rang):\n",
    "    if rang == 0:\n",
    "        lettre = ' '\n",
    "    else:\n",
    "        lettre = chr(rang+ord('a')-1) \n",
    "    return lettre\n",
    "\n",
    "print(trouver_lettre(26))"
   ]
  },
  {
   "cell_type": "markdown",
   "id": "28641794",
   "metadata": {},
   "source": [
    "<div class=\"alert alert-block alert-success\">\n",
    "    <b>Exercice.</b>\n",
    "    Ecrire une fonction convertir_en_liste, qui prend comme argument une chaîne de caractères, et la convertit en liste.\n",
    "</div>"
   ]
  },
  {
   "cell_type": "code",
   "execution_count": null,
   "id": "c551e0d3",
   "metadata": {},
   "outputs": [],
   "source": [
    "def convertir_en_liste(phrase):\n",
    "    # DEBUT : à modifier par l'étudiant\n",
    "    pass\n",
    "    # FIN : à modifier par l'étudiant\n",
    "\n",
    "# --------- tests -------- #\n",
    "try:\n",
    "    assert convertir_en_liste('ab')==['a','b'], 'Erreur : \\'ab\\' devrait être converti en [\\'a\\',\\'b\\'].'\n",
    "    assert convertir_en_liste('un ami')==['u','n',' ','a','m','i'], 'Erreur : \\'un ami\\' devrait être converti en [\\'u\\',\\'n\\',\\' \\',\\'a\\',\\'m\\',\\'i\\'].'\n",
    "except AssertionError as e:\n",
    "    print(e)   "
   ]
  },
  {
   "cell_type": "markdown",
   "id": "b89a2f35",
   "metadata": {},
   "source": [
    "<div class=\"alert alert-block alert-success\">\n",
    "    <b>Exercice.</b>\n",
    "    Ecrire une fonction decaler qui décale chaque rang de 3, sauf le rang 0 (qui est le rang du caractère espace) qui reste le même.\n",
    "</div>"
   ]
  },
  {
   "cell_type": "code",
   "execution_count": null,
   "id": "7a041f40",
   "metadata": {},
   "outputs": [],
   "source": [
    "def decaler(rang):\n",
    "   # DEBUT : à modifier par l'étudiant\n",
    "    pass\n",
    "    # FIN : à modifier par l'étudiant\n",
    "\n",
    "# --------- tests -------- #\n",
    "try:\n",
    "    assert decaler(0)==0, 'Erreur : le rang 0 doit rester le même.'\n",
    "    assert decaler(1)==4, 'Erreur : le rang 1 doit être décalé au rang 4.'\n",
    "    assert decaler(26)==3, 'Erreur : le rang 26 doit être décalé au rang 3.'\n",
    "except AssertionError as e:\n",
    "    print(e)   "
   ]
  },
  {
   "cell_type": "markdown",
   "id": "7871d5c6",
   "metadata": {},
   "source": [
    "<div class=\"alert alert-block alert-success\">\n",
    "    <b>Exercice.</b>\n",
    "    Ecrire une fonction convertir_en_chaine qui prend comme argument une liste de caractères, et la convertit en chaĩne de caractères.\n",
    "</div>\n"
   ]
  },
  {
   "cell_type": "code",
   "execution_count": null,
   "id": "af2b490d",
   "metadata": {},
   "outputs": [],
   "source": [
    "def convertir_en_chaine(nouvelles_lettres):\n",
    "    # DEBUT : à modifier par l'étudiant\n",
    "    pass\n",
    "    # FIN : à modifier par l'étudiant\n",
    "\n",
    "# --------- tests -------- #\n",
    "try:\n",
    "    assert convertir_en_chaine(['a','b'])=='ab', 'Erreur : la liste [\\'a\\',\\'b\\'] doit être convertie en \\'ab\\'.'\n",
    "except AssertionError as e:\n",
    "    print(e)   "
   ]
  },
  {
   "cell_type": "markdown",
   "id": "05e4deff",
   "metadata": {},
   "source": [
    "Nous pouvons maintenant tester si la fonction de chiffrement fonctionne bien."
   ]
  },
  {
   "cell_type": "code",
   "execution_count": null,
   "id": "9629ce9b",
   "metadata": {},
   "outputs": [],
   "source": [
    "def chiffrement(phrase):\n",
    "    lettres = convertir_en_liste(phrase)\n",
    "    rangs = [trouver_rang(lettre) for lettre in lettres]\n",
    "    rangs_decales = [decaler(rang) for rang in rangs]\n",
    "    nouvelles_lettres = [trouver_lettre(rang) for rang in rangs_decales]\n",
    "    phrase_chiffree = convertir_en_chaine(nouvelles_lettres)\n",
    "    return phrase_chiffree\n",
    "\n",
    "print(chiffrement('le chat mange la souris')) # doit afficher oh fkdw pdqjh od vrxulv"
   ]
  },
  {
   "cell_type": "markdown",
   "id": "bfa556be",
   "metadata": {},
   "source": [
    "#### La méthode de déchiffrement\n",
    "\n",
    "Pour déchiffrer une phrase, on suit les mêmes étapes, mais on décale juste les rangs dans l'autre sens."
   ]
  },
  {
   "cell_type": "markdown",
   "id": "f95869fe",
   "metadata": {},
   "source": [
    "<div class=\"alert alert-block alert-success\">\n",
    "    <b>Exercice.</b>\n",
    "    Ecrire une fonction decaler_inverse qui décale chaque rang de 3 dans l'autre sens, sauf le rang 0 (qui est le rang du caractère espace) qui reste le même.\n",
    "</div>"
   ]
  },
  {
   "cell_type": "code",
   "execution_count": null,
   "id": "e485ac88",
   "metadata": {},
   "outputs": [],
   "source": [
    "def decaler_inverse(rang):\n",
    "    # DEBUT : à modifier par l'étudiant\n",
    "    pass\n",
    "    # FIN : à modifier par l'étudiant\n",
    "\n",
    "# --------- tests -------- #\n",
    "try:\n",
    "    assert decaler_inverse(0)==0, 'Erreur : le rang 0 doit rester le même.'\n",
    "    assert decaler_inverse(1)==24, 'Erreur : le rang 1 doit être décalé au rang 24.'\n",
    "    assert decaler_inverse(26)==23, 'Erreur : le rang 26 doit être décalé au rang 23.'\n",
    "except AssertionError as e:\n",
    "    print(e)   "
   ]
  },
  {
   "cell_type": "markdown",
   "id": "ab5014b1",
   "metadata": {},
   "source": [
    "On peut maintenant tester si la fonction de déchiffrement fonctionne bien."
   ]
  },
  {
   "cell_type": "code",
   "execution_count": null,
   "id": "b26350c2",
   "metadata": {},
   "outputs": [],
   "source": [
    "def dechiffrement(phrase):\n",
    "    lettres = convertir_en_liste(phrase)\n",
    "    rangs = [trouver_rang(lettre) for lettre in lettres]\n",
    "    rangs_decales = [decaler_inverse(rang) for rang in rangs]\n",
    "    nouvelles_lettres = [trouver_lettre(rang) for rang in rangs_decales]\n",
    "    phrase_chiffree = convertir_en_chaine(nouvelles_lettres)\n",
    "    return phrase_chiffree\n",
    "\n",
    "print(dechiffrement('oh fkdw pdqjh od vrxulv'))"
   ]
  }
 ],
 "metadata": {
  "kernelspec": {
   "display_name": "Python [conda env:l3sv] *",
   "language": "python",
   "name": "conda-env-l3sv-py"
  },
  "language_info": {
   "codemirror_mode": {
    "name": "ipython",
    "version": 3
   },
   "file_extension": ".py",
   "mimetype": "text/x-python",
   "name": "python",
   "nbconvert_exporter": "python",
   "pygments_lexer": "ipython3",
   "version": "3.7.11"
  }
 },
 "nbformat": 4,
 "nbformat_minor": 5
}
