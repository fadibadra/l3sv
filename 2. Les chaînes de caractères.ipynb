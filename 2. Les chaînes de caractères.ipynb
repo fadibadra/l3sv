{
 "cells": [
  {
   "cell_type": "markdown",
   "id": "ideal-trick",
   "metadata": {},
   "source": [
    "## Comment utiliser ce notebook\n",
    "Cliquer sur une cellule et presser Entrée pour éditer une cellule.<br/>\n",
    "Appuyer sur Shift+Entrée pour exécuter la cellule.<br/>\n",
    "Pour répondre à un exercice, remplacer le bloc\n",
    "```python\n",
    "# DEBUT : à modifier par l'étudiant\n",
    "pass\n",
    "# FIN : à modifier par l'étudiant\n",
    "```\n",
    "par votre code et exécuter la cellule.\n",
    "<hr/>"
   ]
  },
  {
   "cell_type": "markdown",
   "id": "informed-volunteer",
   "metadata": {},
   "source": [
    "Sous-sections :\n",
    "[Concaténation](#concatenation)\n",
    "[Formatage](#formatage)"
   ]
  },
  {
   "cell_type": "markdown",
   "id": "sudden-segment",
   "metadata": {},
   "source": [
    "## Chaînes de caractères"
   ]
  },
  {
   "cell_type": "markdown",
   "id": "premier-bottom",
   "metadata": {},
   "source": [
    "<a id=\"concatenation\"></a>\n",
    "### Concaténation"
   ]
  },
  {
   "cell_type": "markdown",
   "id": "accurate-breast",
   "metadata": {},
   "source": [
    "Concaténer deux chaînes de caractères veut dire apposer deux chaînes l'une à la suite de l'autre pour former une plus grande chaîne.<br/>\n",
    "En Python, on utilise l'opérateur **+** pour concaténer deux chaînes, par exemple :"
   ]
  },
  {
   "cell_type": "code",
   "execution_count": 3,
   "id": "excess-biotechnology",
   "metadata": {},
   "outputs": [
    {
     "name": "stdout",
     "output_type": "stream",
     "text": [
      "ACCTCG\n"
     ]
    }
   ],
   "source": [
    "print('ACCT'+'CG')"
   ]
  },
  {
   "cell_type": "code",
   "execution_count": 9,
   "id": "dated-measurement",
   "metadata": {},
   "outputs": [
    {
     "name": "stdout",
     "output_type": "stream",
     "text": [
      "a,b,c,d,e,f,g,h,i,j,k,l,m,n,o,p,q,r,s,t,u,v,w,x,y,z\n"
     ]
    }
   ],
   "source": [
    "import string\n",
    "s = ''\n",
    "for lettre in string.ascii_lowercase:\n",
    "    s = s + lettre + ',' \n",
    "s = s[:-1]\n",
    "print(s)"
   ]
  },
  {
   "cell_type": "markdown",
   "id": "direct-purple",
   "metadata": {},
   "source": [
    "<a id=\"formatage\"></a>\n",
    "### Formatage des chaînes de caractères"
   ]
  },
  {
   "cell_type": "markdown",
   "id": "imported-dakota",
   "metadata": {},
   "source": [
    "On a souvent besoin de fabriquer des chaînes de caractères à partir de valeurs de certaines variables.\n",
    "\n",
    "Depuis Python 3.6, il y a trois manières de formater les chaînes de caractères :\n",
    "- en la définissant comme une *f-string* (i.e., en la faisant précéder du modifieur **f** ou **F**) :\n",
    "```python\n",
    "nom = \"Ursule\"\n",
    "f'Mon nom est {nom}'\n",
    "```\n",
    "- avec la fonction str.format :\n",
    "```python\n",
    "nom = \"Ursule\"\n",
    "'Mon nom est {}'.format(nom)\n",
    "```\n",
    "- avec la syntaxe format % valeur :\n",
    "```python\n",
    "nom = \"Ursule\"\n",
    "'Mon nom est %s' % nom\n",
    "```\n",
    "\n",
    "A chaque fois, on peut spécifier comment chaque valeur doit être représentée, à l'aide de modifieurs comme d (entier en base 10), s (chaîne de caractères), .2f (nombre réel avec deux chiffres après la virgule), b (binaire), etc.<br/>\n",
    "Le mini-langage de spécification de format est décrit ici :\n",
    "https://docs.python.org/fr/3/library/string.html#formatspec \n",
    "\n",
    "Voici quelques exemples :"
   ]
  },
  {
   "cell_type": "code",
   "execution_count": 53,
   "id": "twenty-checklist",
   "metadata": {},
   "outputs": [
    {
     "name": "stdout",
     "output_type": "stream",
     "text": [
      "4.300\n",
      "10011\n",
      "(2.29000000,4.10000000)\n",
      "    marcel : -3\n",
      "   aminata : +18\n",
      "     glenn : +10\n",
      "1,234,567,890\n"
     ]
    }
   ],
   "source": [
    "print('%.3f' % 4.3)\n",
    "print(f'{19:b}')\n",
    "(x,y)=(2.29,4.1)\n",
    "print('({:.8f},{:.8f})'.format(x,y))\n",
    "for (nom,bonus) in [('marcel',-3),('aminata',18),('glenn',10)]:\n",
    "    print(f'{nom:>10} : {bonus:+}')\n",
    "print('{:,}'.format(1234567890))"
   ]
  },
  {
   "cell_type": "markdown",
   "id": "banner-workplace",
   "metadata": {},
   "source": [
    "<div class=\"alert alert-block alert-success\">\n",
    "    <b>Exercice.</b>\n",
    "    Afficher le nombre $\\pi$ avec 24 chiffres après la virgule.<br/>\n",
    "    NB: on utilisera la constante pi du module math, à laquelle on accède de la manière suivante :\n",
    "\n",
    "```python\n",
    "    import math\n",
    "    math.pi\n",
    "```   \n",
    " \n",
    "</div>"
   ]
  },
  {
   "cell_type": "code",
   "execution_count": null,
   "id": "peripheral-salon",
   "metadata": {},
   "outputs": [],
   "source": [
    "import math\n",
    "# DEBUT : à modifier par l'étudiant\n",
    "pass\n",
    "# FIN : à modifier par l'étudiant"
   ]
  },
  {
   "cell_type": "markdown",
   "id": "perceived-antibody",
   "metadata": {},
   "source": [
    "<div class=\"alert alert-block alert-success\">\n",
    "    <b>Exercice.</b>\n",
    "    Afficher la phrase \"Le ratio GC vaut X % \", où X est la valeur contenue dans la variable gc converti en pourcentage, et arrondi à 1 chiffre après la virgule."
   ]
  },
  {
   "cell_type": "code",
   "execution_count": 70,
   "id": "leading-proposition",
   "metadata": {},
   "outputs": [],
   "source": [
    "gc=.8798\n",
    "# DEBUT : à modifier par l'étudiant\n",
    "pass\n",
    "# FIN : à modifier par l'étudiant"
   ]
  },
  {
   "cell_type": "code",
   "execution_count": null,
   "id": "injured-ultimate",
   "metadata": {},
   "outputs": [],
   "source": []
  }
 ],
 "metadata": {
  "kernelspec": {
   "display_name": "Python [conda env:l3sv] *",
   "language": "python",
   "name": "conda-env-l3sv-py"
  },
  "language_info": {
   "codemirror_mode": {
    "name": "ipython",
    "version": 3
   },
   "file_extension": ".py",
   "mimetype": "text/x-python",
   "name": "python",
   "nbconvert_exporter": "python",
   "pygments_lexer": "ipython3",
   "version": "3.7.11"
  }
 },
 "nbformat": 4,
 "nbformat_minor": 5
}
