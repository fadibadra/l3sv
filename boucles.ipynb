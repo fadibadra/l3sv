{
 "cells": [
  {
   "cell_type": "markdown",
   "source": [
    "Ecrire une fonction somme_carres qui prend un entier naturel n comme argument et renvoie la somme des carrés des nombres de 1 à n."
   ],
   "metadata": {}
  },
  {
   "cell_type": "code",
   "execution_count": null,
   "source": [
    "def somme_carres(n):\n",
    "    res = 0\n",
    "    # DEBUT : à modifier par l'étudiant\n",
    "    pass\n",
    "    # FIN : à modifier par l'étudiant\n",
    "    return res\n",
    "\n",
    "# --------- tests -------- #\n",
    "try:\n",
    "    assert somme_carres(18)==2109, 'Erreur : la somme des carres des nombres entre 1 et 17 doit valoir 1785'\n",
    "    print(\"Ok\")\n",
    "except AssertionError as e:\n",
    "    print(e)   "
   ],
   "outputs": [
    {
     "output_type": "stream",
     "name": "stdout",
     "text": [
      "Erreur : la somme des carres des nombres entre 1 et 17 doit valoir 1785\n"
     ]
    }
   ],
   "metadata": {
    "solution2": "hidden",
    "solution2_first": true
   }
  },
  {
   "cell_type": "code",
   "execution_count": null,
   "source": [
    "def somme_carres(n):\n",
    "    res = 0\n",
    "    for i in range(1,n+1):\n",
    "        res = res + i*i\n",
    "    return res"
   ],
   "outputs": [],
   "metadata": {
    "solution2": "hidden"
   }
  }
 ],
 "metadata": {
  "orig_nbformat": 4,
  "language_info": {
   "name": "python"
  }
 },
 "nbformat": 4,
 "nbformat_minor": 2
}